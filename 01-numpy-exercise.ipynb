{
 "cells": [
  {
   "cell_type": "markdown",
   "metadata": {
    "id": "vX_xDzGFdfR8"
   },
   "source": [
    "# Numpy exercises"
   ]
  },
  {
   "cell_type": "code",
   "execution_count": 2,
   "metadata": {
    "id": "e96iNg-qdfR9"
   },
   "outputs": [],
   "source": [
    "import numpy as np"
   ]
  },
  {
   "cell_type": "markdown",
   "metadata": {
    "id": "c2PK_p-wdfSG"
   },
   "source": [
    "**1. Create a null vector of size 10**"
   ]
  },
  {
   "cell_type": "code",
   "execution_count": 9,
   "metadata": {
    "id": "lDj9ju4PdfSI"
   },
   "outputs": [],
   "source": [
    "a = np.zeros(10)"
   ]
  },
  {
   "cell_type": "markdown",
   "metadata": {
    "id": "d7hr9ytvdfSN"
   },
   "source": [
    "**2. Create a null vector of size 10 but the fifth value which is 1**"
   ]
  },
  {
   "cell_type": "code",
   "execution_count": 16,
   "metadata": {
    "id": "AeikE6r1dfSO"
   },
   "outputs": [
    {
     "data": {
      "text/plain": [
       "array([0., 0., 0., 0., 1., 0., 0., 0., 0., 0.])"
      ]
     },
     "execution_count": 16,
     "metadata": {},
     "output_type": "execute_result"
    }
   ],
   "source": [
    "a[4] = 1\n",
    "a"
   ]
  },
  {
   "cell_type": "markdown",
   "metadata": {
    "id": "yTD2VbsVdfSQ"
   },
   "source": [
    "**3.  Create a vector with values ranging from 10 to 49**"
   ]
  },
  {
   "cell_type": "code",
   "execution_count": 18,
   "metadata": {},
   "outputs": [
    {
     "data": {
      "text/plain": [
       "array([10, 11, 12, 13, 14, 15, 16, 17, 18, 19, 20, 21, 22, 23, 24, 25, 26,\n",
       "       27, 28, 29, 30, 31, 32, 33, 34, 35, 36, 37, 38, 39, 40, 41, 42, 43,\n",
       "       44, 45, 46, 47, 48])"
      ]
     },
     "execution_count": 18,
     "metadata": {},
     "output_type": "execute_result"
    }
   ],
   "source": [
    "np.arange(10,49)"
   ]
  },
  {
   "cell_type": "markdown",
   "metadata": {
    "id": "XoypqoO5dfSV"
   },
   "source": [
    "**4. Reverse a vector using slicing**"
   ]
  },
  {
   "cell_type": "markdown",
   "metadata": {
    "id": "Rmu02hOzdfSV",
    "outputId": "cddd2c5c-2ed0-4b9e-c32e-ee76cfc4f9fd"
   },
   "source": [
    "By adding another colon, you can specify a step. So we have [start:stop:step]."
   ]
  },
  {
   "cell_type": "code",
   "execution_count": 20,
   "metadata": {},
   "outputs": [
    {
     "name": "stdout",
     "output_type": "stream",
     "text": [
      "[4 3 2]\n"
     ]
    }
   ],
   "source": [
    "arr = np.arange(2,5) \n",
    "reversed_arr = arr[::-1]\n",
    "print(reversed_arr)"
   ]
  },
  {
   "cell_type": "markdown",
   "metadata": {
    "id": "aZ3ZFDzXdfSX"
   },
   "source": [
    "**5. Create a 3x3 matrix with values ranging from 0 to 8**"
   ]
  },
  {
   "cell_type": "code",
   "execution_count": 24,
   "metadata": {
    "id": "PksWerZfdfSY",
    "outputId": "830c8b07-4f1e-4d64-9272-e5983f6daf40"
   },
   "outputs": [
    {
     "data": {
      "text/plain": [
       "array([[4, 0, 7],\n",
       "       [7, 2, 8],\n",
       "       [4, 6, 3]])"
      ]
     },
     "execution_count": 24,
     "metadata": {},
     "output_type": "execute_result"
    }
   ],
   "source": [
    "h = np.random.randint(0,9,(3,3))\n",
    "h"
   ]
  },
  {
   "cell_type": "markdown",
   "metadata": {
    "id": "64WMNOaxdfSZ"
   },
   "source": [
    "**6. Create a 5x5 identity matrix**"
   ]
  },
  {
   "cell_type": "code",
   "execution_count": 29,
   "metadata": {
    "id": "2Ls7-socdfSa",
    "outputId": "58126ab9-a2ea-475b-a80d-365e54cfd74f"
   },
   "outputs": [
    {
     "name": "stdout",
     "output_type": "stream",
     "text": [
      "[[0 0 1 0 0]\n",
      " [0 0 1 0 0]\n",
      " [1 1 1 1 1]\n",
      " [0 0 1 0 0]\n",
      " [0 0 1 0 0]]\n"
     ]
    }
   ],
   "source": [
    "import numpy as np\n",
    "\n",
    "n=5\n",
    "z = np.zeros((n, n), dtype='int')\n",
    "z[n//2,:] = 1\n",
    "z[:,n//2] = 1\n",
    "\n",
    "print(z)"
   ]
  },
  {
   "cell_type": "markdown",
   "metadata": {
    "id": "bFVWwL4rdfSb"
   },
   "source": [
    "**7. Create a 5x5 array with random values and find the minimum and maximum values**"
   ]
  },
  {
   "cell_type": "code",
   "execution_count": 34,
   "metadata": {
    "id": "KFofglUqdfSc",
    "outputId": "5890a3b1-3c53-441c-b70c-820604b78e68"
   },
   "outputs": [
    {
     "data": {
      "text/plain": [
       "array([[0.41118755, 0.43018561, 0.84178864, 0.21092145, 0.71907098],\n",
       "       [0.58522193, 0.23246817, 0.73253358, 0.65424122, 0.74366638],\n",
       "       [0.66587033, 0.72981288, 0.24641208, 0.37549818, 0.30275237],\n",
       "       [0.72626799, 0.12392055, 0.3761216 , 0.2765102 , 0.31480515],\n",
       "       [0.78416797, 0.17868903, 0.43133225, 0.24750237, 0.20178718]])"
      ]
     },
     "execution_count": 34,
     "metadata": {},
     "output_type": "execute_result"
    }
   ],
   "source": [
    "a = np.random.rand(5,5)\n",
    "a"
   ]
  },
  {
   "cell_type": "code",
   "execution_count": 35,
   "metadata": {},
   "outputs": [
    {
     "data": {
      "text/plain": [
       "0.8417886358466526"
      ]
     },
     "execution_count": 35,
     "metadata": {},
     "output_type": "execute_result"
    }
   ],
   "source": [
    "a.max()"
   ]
  },
  {
   "cell_type": "code",
   "execution_count": 36,
   "metadata": {},
   "outputs": [
    {
     "data": {
      "text/plain": [
       "0.1239205459714875"
      ]
     },
     "execution_count": 36,
     "metadata": {},
     "output_type": "execute_result"
    }
   ],
   "source": [
    "a.min()"
   ]
  },
  {
   "cell_type": "markdown",
   "metadata": {
    "id": "8tMU2Uy_dfSe"
   },
   "source": [
    "**8. Create a random vector of size 10 and find the mean value**"
   ]
  },
  {
   "cell_type": "code",
   "execution_count": 55,
   "metadata": {
    "id": "BdUMi6u_dfSe",
    "outputId": "b20ba45f-8786-4cea-f3fb-7455456b5bc1"
   },
   "outputs": [
    {
     "data": {
      "text/plain": [
       "array([0.50976624, 0.50084146, 0.00927809, 0.48115619, 0.93068659,\n",
       "       0.86275455, 0.58172778, 0.29363622, 0.96154465, 0.864341  ])"
      ]
     },
     "execution_count": 55,
     "metadata": {},
     "output_type": "execute_result"
    }
   ],
   "source": [
    "x = np.random.rand(10)\n",
    "x"
   ]
  },
  {
   "cell_type": "code",
   "execution_count": 57,
   "metadata": {},
   "outputs": [
    {
     "data": {
      "text/plain": [
       "0.5995732768869053"
      ]
     },
     "execution_count": 57,
     "metadata": {},
     "output_type": "execute_result"
    }
   ],
   "source": [
    "x.mean()"
   ]
  },
  {
   "cell_type": "markdown",
   "metadata": {
    "id": "WbDokUiIdfSg"
   },
   "source": [
    "**9. Create a 2d array with 1 on the border and 0 inside**"
   ]
  },
  {
   "cell_type": "code",
   "execution_count": 100,
   "metadata": {},
   "outputs": [
    {
     "name": "stdout",
     "output_type": "stream",
     "text": [
      "[[1 0 1]\n",
      " [1 0 1]]\n"
     ]
    },
    {
     "data": {
      "text/plain": [
       "2"
      ]
     },
     "execution_count": 100,
     "metadata": {},
     "output_type": "execute_result"
    }
   ],
   "source": [
    "rows, cols = (2, 3) #3 elements, 2 values in each element\n",
    "arr = [[1] * cols for _ in range(rows)] #creates 2D array \n",
    "#[x]*cols determines the value of 'x' inside each element\n",
    "\n",
    "arr_np = np.array(arr)  # Convert the list to a NumPy array\n",
    "\n",
    "arr_np\n",
    "\n",
    "arr_np[:,1] = 0 # assigns the value 0 to all elements in the second column (index 1) of arr_np\n",
    "print(arr_np)\n",
    "\n",
    "arr_np.ndim #2 dimensions"
   ]
  },
  {
   "cell_type": "markdown",
   "metadata": {
    "id": "YjTsbZMCdfSh"
   },
   "source": [
    "**10. Normalize a 5x5 random matrix**"
   ]
  },
  {
   "cell_type": "code",
   "execution_count": 101,
   "metadata": {
    "id": "1kK_ws6QdfSh",
    "outputId": "d6e77dbb-11d4-4a9b-a310-2397ff06327e"
   },
   "outputs": [
    {
     "name": "stdout",
     "output_type": "stream",
     "text": [
      "[[ 0.31582511 -0.49566    -0.29104336 -0.00378306  1.29646633]\n",
      " [ 0.60337546  1.39583123  1.27815202  0.24569702  2.33206284]\n",
      " [ 0.13720772  1.31562835  1.34020604  0.93592525 -0.10111558]\n",
      " [ 0.66964782 -0.58880996  0.3844713   1.3535622   0.09461146]\n",
      " [-1.59491359 -0.36936404 -3.29870335  0.17777142  0.37559615]]\n"
     ]
    }
   ],
   "source": [
    "#Creating an array of random samples from the standard normal distribution\n",
    "f = np.random.randn(5,5) #(5,5) is the shape. \n",
    "print(f)"
   ]
  },
  {
   "cell_type": "markdown",
   "metadata": {
    "id": "uVaBkdWadfSj"
   },
   "source": [
    "**11. Multiply a 5x3 matrix by a 3x2 matrix (real matrix product)**"
   ]
  },
  {
   "cell_type": "code",
   "execution_count": 118,
   "metadata": {
    "id": "5sYZWOmidfSj",
    "outputId": "91488385-d39b-4716-9647-54041c6889f5"
   },
   "outputs": [
    {
     "data": {
      "text/plain": [
       "array([[0.55454634, 0.97927116, 0.46604648],\n",
       "       [0.89751539, 0.19529649, 0.74659495],\n",
       "       [0.73034318, 0.67840929, 0.61777388],\n",
       "       [0.00670344, 0.75089209, 0.3947519 ],\n",
       "       [0.27209377, 0.52293812, 0.21581143]])"
      ]
     },
     "execution_count": 118,
     "metadata": {},
     "output_type": "execute_result"
    }
   ],
   "source": [
    "a = np.random.rand(5,3)\n",
    "a"
   ]
  },
  {
   "cell_type": "code",
   "execution_count": 119,
   "metadata": {
    "id": "5sYZWOmidfSj",
    "outputId": "91488385-d39b-4716-9647-54041c6889f5"
   },
   "outputs": [
    {
     "data": {
      "text/plain": [
       "array([[0.420791  , 0.30888182],\n",
       "       [0.30441375, 0.38750477],\n",
       "       [0.07200171, 0.69136575]])"
      ]
     },
     "execution_count": 119,
     "metadata": {},
     "output_type": "execute_result"
    }
   ],
   "source": [
    "b = np.random.rand(3,2)\n",
    "b"
   ]
  },
  {
   "cell_type": "code",
   "execution_count": 120,
   "metadata": {
    "id": "5sYZWOmidfSj",
    "outputId": "91488385-d39b-4716-9647-54041c6889f5"
   },
   "outputs": [
    {
     "name": "stdout",
     "output_type": "stream",
     "text": [
      "[[0.56500786 0.8729701 ]\n",
      " [0.49087345 0.86907468]\n",
      " [0.55831973 0.91558426]\n",
      " [0.25982544 0.56596278]\n",
      " [0.28922296 0.43589046]]\n"
     ]
    }
   ],
   "source": [
    "\n",
    "# This will return dot product\n",
    "res = np.dot(a,b)\n",
    " \n",
    " \n",
    "# print resulted matrix\n",
    "print(res)"
   ]
  },
  {
   "cell_type": "markdown",
   "metadata": {
    "id": "LcZLO3s-dfSl"
   },
   "source": [
    "**12. Given a 1D array, negate all elements which are between 3 and 8, in place**"
   ]
  },
  {
   "cell_type": "code",
   "execution_count": 131,
   "metadata": {
    "id": "RikaSHVIdfSl",
    "outputId": "b39c6434-9ba6-4809-e1db-659247273e56"
   },
   "outputs": [
    {
     "data": {
      "text/plain": [
       "array([ 0,  1,  2,  3,  4,  5,  6,  7,  8,  9, 10, 11, 12, 13, 14, 15, 16,\n",
       "       17, 18, 19])"
      ]
     },
     "execution_count": 131,
     "metadata": {},
     "output_type": "execute_result"
    }
   ],
   "source": [
    "a = np.arange(20)\n",
    "a\n",
    "\n"
   ]
  },
  {
   "cell_type": "code",
   "execution_count": 137,
   "metadata": {},
   "outputs": [
    {
     "name": "stdout",
     "output_type": "stream",
     "text": [
      "[ 0  1  2 -3 -4 -5 -6 -7 -8  9 10 11 12 13 14 15 16 17 18 19]\n"
     ]
    }
   ],
   "source": [
    "a[3:9] = np.multiply(a[3:9],-1)\n",
    "\n",
    "print(a)"
   ]
  },
  {
   "cell_type": "markdown",
   "metadata": {
    "id": "AU9jQSkDdfSm"
   },
   "source": [
    "**13. How to find common values between two arrays?**"
   ]
  },
  {
   "cell_type": "code",
   "execution_count": 159,
   "metadata": {
    "id": "nc35UlnSdfSm",
    "outputId": "145bfedd-405a-40f1-c210-0a39abe92342"
   },
   "outputs": [
    {
     "name": "stdout",
     "output_type": "stream",
     "text": [
      "[3]\n"
     ]
    }
   ],
   "source": [
    "a = np.arange(0, 10, 3)\n",
    "b = np.arange(2,5) \n",
    "\n",
    "print(np.intersect1d(a, b)) \n",
    "#The np.intersect1d() function efficiently identifies and extracts common elements from 1-D arrays"
   ]
  },
  {
   "cell_type": "code",
   "execution_count": 160,
   "metadata": {},
   "outputs": [
    {
     "data": {
      "text/plain": [
       "array([2, 3, 4])"
      ]
     },
     "execution_count": 160,
     "metadata": {},
     "output_type": "execute_result"
    }
   ],
   "source": [
    "b"
   ]
  },
  {
   "cell_type": "code",
   "execution_count": 162,
   "metadata": {},
   "outputs": [
    {
     "data": {
      "text/plain": [
       "array([0, 3, 6, 9])"
      ]
     },
     "execution_count": 162,
     "metadata": {},
     "output_type": "execute_result"
    }
   ],
   "source": [
    "a"
   ]
  },
  {
   "cell_type": "markdown",
   "metadata": {
    "id": "8epjp_KtdfSn"
   },
   "source": [
    "**14. How to get the dates of yesterday, today and tomorrow?**"
   ]
  },
  {
   "cell_type": "code",
   "execution_count": 174,
   "metadata": {
    "id": "BkEKhXBCdfSo",
    "outputId": "b6808ef8-c088-4b46-d8c9-e4ef7e8a45f0"
   },
   "outputs": [
    {
     "data": {
      "text/plain": [
       "numpy.datetime64('2024-01-07')"
      ]
     },
     "execution_count": 174,
     "metadata": {},
     "output_type": "execute_result"
    }
   ],
   "source": [
    "today = np.datetime64('today', 'D')\n",
    "today"
   ]
  },
  {
   "cell_type": "code",
   "execution_count": 172,
   "metadata": {
    "id": "BkEKhXBCdfSo",
    "outputId": "b6808ef8-c088-4b46-d8c9-e4ef7e8a45f0"
   },
   "outputs": [
    {
     "data": {
      "text/plain": [
       "numpy.datetime64('2024-01-06')"
      ]
     },
     "execution_count": 172,
     "metadata": {},
     "output_type": "execute_result"
    }
   ],
   "source": [
    "yesterday = np.datetime64('today', 'D') - np.timedelta64(1, 'D') \n",
    "yesterday"
   ]
  },
  {
   "cell_type": "code",
   "execution_count": 173,
   "metadata": {
    "id": "BkEKhXBCdfSo",
    "outputId": "b6808ef8-c088-4b46-d8c9-e4ef7e8a45f0"
   },
   "outputs": [
    {
     "data": {
      "text/plain": [
       "numpy.datetime64('2024-01-08')"
      ]
     },
     "execution_count": 173,
     "metadata": {},
     "output_type": "execute_result"
    }
   ],
   "source": [
    "tomorrow = np.datetime64('today', 'D') + np.timedelta64(1, 'D') \n",
    "tomorrow"
   ]
  },
  {
   "cell_type": "markdown",
   "metadata": {
    "id": "RxX-kX9ndfSp"
   },
   "source": [
    "**15. Create a 5x5 matrix with row values ranging from 0 to 4**"
   ]
  },
  {
   "cell_type": "code",
   "execution_count": 163,
   "metadata": {
    "id": "qpsg1H59dfSp",
    "outputId": "2586615a-d535-4da2-dfa6-dc82d746ab05"
   },
   "outputs": [
    {
     "data": {
      "text/plain": [
       "array([[3, 2, 3, 3, 3],\n",
       "       [2, 2, 3, 3, 2],\n",
       "       [0, 0, 3, 2, 1],\n",
       "       [4, 0, 4, 1, 1],\n",
       "       [1, 3, 1, 3, 3]])"
      ]
     },
     "execution_count": 163,
     "metadata": {},
     "output_type": "execute_result"
    }
   ],
   "source": [
    "h = np.random.randint(0,5,(5,5))\n",
    "h"
   ]
  },
  {
   "cell_type": "markdown",
   "metadata": {
    "id": "aLETq67NdfSr"
   },
   "source": [
    "**16. Create a random vector of size 10 and sort it**"
   ]
  },
  {
   "cell_type": "code",
   "execution_count": 190,
   "metadata": {
    "id": "dISX2k-hdfSr",
    "outputId": "5791e0a8-21c8-4cd8-9fac-86807e9e2ebf"
   },
   "outputs": [
    {
     "data": {
      "text/plain": [
       "array([[0.46318936, 0.75003031, 0.43986686, 0.21655341, 0.01656409,\n",
       "        0.74133112, 0.48916683, 0.85011145, 0.26918013, 0.49872682]])"
      ]
     },
     "execution_count": 190,
     "metadata": {},
     "output_type": "execute_result"
    }
   ],
   "source": [
    "g = np.random.rand(1,10)\n",
    "g"
   ]
  },
  {
   "cell_type": "code",
   "execution_count": 191,
   "metadata": {
    "id": "dISX2k-hdfSr",
    "outputId": "5791e0a8-21c8-4cd8-9fac-86807e9e2ebf"
   },
   "outputs": [
    {
     "data": {
      "text/plain": [
       "array([[0.01656409, 0.21655341, 0.26918013, 0.43986686, 0.46318936,\n",
       "        0.48916683, 0.49872682, 0.74133112, 0.75003031, 0.85011145]])"
      ]
     },
     "execution_count": 191,
     "metadata": {},
     "output_type": "execute_result"
    }
   ],
   "source": [
    "sorted_g = np.sort(g)\n",
    "sorted_g"
   ]
  },
  {
   "cell_type": "markdown",
   "metadata": {
    "id": "_u2ktBthdfSt"
   },
   "source": [
    "**17. Consider two random array A and B, check if they are equal**"
   ]
  },
  {
   "cell_type": "code",
   "execution_count": 201,
   "metadata": {
    "id": "N7kvpwBvdfSt",
    "outputId": "bc138b73-8dbe-40e7-a9e2-e0b0b82bcaf2"
   },
   "outputs": [
    {
     "data": {
      "text/plain": [
       "array([[False, False, False, False, False, False, False, False, False,\n",
       "        False]])"
      ]
     },
     "execution_count": 201,
     "metadata": {},
     "output_type": "execute_result"
    }
   ],
   "source": [
    "arr = np.random.rand(1,10)\n",
    "arr2 = np.random.rand(1,10)\n",
    "\n",
    "result = arr == arr2 #checking element-wise if they are true \n",
    "result"
   ]
  },
  {
   "cell_type": "code",
   "execution_count": 256,
   "metadata": {},
   "outputs": [
    {
     "data": {
      "text/plain": [
       "False"
      ]
     },
     "execution_count": 256,
     "metadata": {},
     "output_type": "execute_result"
    }
   ],
   "source": [
    "a = np.arange(0, 20)\n",
    "b = np.arange(0,10) \n",
    "np.array_equal(a, b) #checking if overall it's equal"
   ]
  },
  {
   "cell_type": "markdown",
   "metadata": {
    "id": "9x4U-2G9dfSv"
   },
   "source": [
    "**18. Create random vector of size 10 and replace the maximum value by 0**"
   ]
  },
  {
   "cell_type": "code",
   "execution_count": 261,
   "metadata": {},
   "outputs": [
    {
     "data": {
      "text/plain": [
       "array([0.88094928, 0.75891191, 0.44818403, 0.18119197, 0.83207056,\n",
       "       0.23347018, 0.60213421, 0.42480137, 0.03852521, 0.40894108])"
      ]
     },
     "execution_count": 261,
     "metadata": {},
     "output_type": "execute_result"
    }
   ],
   "source": [
    "#creating random vector of size 10\n",
    "arr = np.random.rand(10)\n",
    "arr"
   ]
  },
  {
   "cell_type": "code",
   "execution_count": 262,
   "metadata": {},
   "outputs": [
    {
     "data": {
      "text/plain": [
       "array([0.        , 0.75891191, 0.44818403, 0.18119197, 0.83207056,\n",
       "       0.23347018, 0.60213421, 0.42480137, 0.03852521, 0.40894108])"
      ]
     },
     "execution_count": 262,
     "metadata": {},
     "output_type": "execute_result"
    }
   ],
   "source": [
    "#replacing max value by 0\n",
    "arr[arr.argmax()] = 0\n",
    "#arr.argmax() returns the index of the maximum element in the arr array, and \n",
    "#arr[arr.argmax()] accesses that element.\n",
    "\n",
    "arr"
   ]
  },
  {
   "cell_type": "markdown",
   "metadata": {
    "id": "8FKYI2vydfSw"
   },
   "source": [
    "**19. How to convert a float (32 bits) array into an integer (32 bits) in place?**"
   ]
  },
  {
   "cell_type": "code",
   "execution_count": 263,
   "metadata": {
    "id": "EHuTOZMqdfSw",
    "outputId": "5774dd62-0ce1-426e-c71f-d6e7912bf6df"
   },
   "outputs": [
    {
     "data": {
      "text/plain": [
       "array([[0., 0., 0.],\n",
       "       [0., 0., 0.],\n",
       "       [0., 0., 0.]], dtype=float32)"
      ]
     },
     "execution_count": 263,
     "metadata": {},
     "output_type": "execute_result"
    }
   ],
   "source": [
    "np.zeros((3,3), dtype='float32')"
   ]
  },
  {
   "cell_type": "code",
   "execution_count": 264,
   "metadata": {
    "id": "EHuTOZMqdfSw",
    "outputId": "5774dd62-0ce1-426e-c71f-d6e7912bf6df"
   },
   "outputs": [
    {
     "data": {
      "text/plain": [
       "array([[0, 0, 0],\n",
       "       [0, 0, 0],\n",
       "       [0, 0, 0]], dtype=int32)"
      ]
     },
     "execution_count": 264,
     "metadata": {},
     "output_type": "execute_result"
    }
   ],
   "source": [
    "#changing the value type to integer \n",
    "np.zeros((3,3), dtype='int32')"
   ]
  },
  {
   "cell_type": "markdown",
   "metadata": {
    "id": "Y2Iqn9dpdfSx"
   },
   "source": [
    "**20. Find the nearest value from a given value in an array**"
   ]
  },
  {
   "cell_type": "code",
   "execution_count": 265,
   "metadata": {
    "id": "0aGEyMXOdfSx",
    "outputId": "4115e409-a444-44a4-a1f1-a0e20949dece"
   },
   "outputs": [],
   "source": [
    "def find_nearest(a, a0):\n",
    "    \"Element in nd array `a` closest to the scalar value `a0`\"\n",
    "    idx = np.abs(a - a0).argmin()\n",
    "    return a.flat[idx]"
   ]
  },
  {
   "cell_type": "code",
   "execution_count": 266,
   "metadata": {
    "id": "0aGEyMXOdfSx",
    "outputId": "4115e409-a444-44a4-a1f1-a0e20949dece"
   },
   "outputs": [
    {
     "name": "stdout",
     "output_type": "stream",
     "text": [
      "7\n"
     ]
    }
   ],
   "source": [
    "arr = np.array([1, 4, 7, 10, 12])\n",
    "given_value = 6\n",
    "\n",
    "nearest_value = find_nearest(arr, given_value)\n",
    "print(nearest_value)"
   ]
  },
  {
   "cell_type": "markdown",
   "metadata": {
    "id": "CFHrCYJPdfS1"
   },
   "source": [
    "For more exercises see [100 Numpy Exercies](https://github.com/rougier/numpy-100),"
   ]
  }
 ],
 "metadata": {
  "colab": {
   "collapsed_sections": [],
   "name": "01-numpy-exercise.ipynb",
   "provenance": []
  },
  "kernelspec": {
   "display_name": "Python 3 (ipykernel)",
   "language": "python",
   "name": "python3"
  },
  "language_info": {
   "codemirror_mode": {
    "name": "ipython",
    "version": 3
   },
   "file_extension": ".py",
   "mimetype": "text/x-python",
   "name": "python",
   "nbconvert_exporter": "python",
   "pygments_lexer": "ipython3",
   "version": "3.10.11"
  }
 },
 "nbformat": 4,
 "nbformat_minor": 4
}
