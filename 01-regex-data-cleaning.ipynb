{
 "cells": [
  {
   "cell_type": "markdown",
   "metadata": {
    "colab_type": "text",
    "id": "ucmHCO2INBVv"
   },
   "source": [
    "# Open Rice\n",
    "\n",
    "**1)** We scraped a data set from Openrice but it needs cleaning:\n",
    "\n",
    "* Remove duplicate data\n",
    "* Use a regex to clean the review col\n",
    "* Remove the trailing commas from the adress col\n"
   ]
  },
  {
   "cell_type": "code",
   "execution_count": 62,
   "metadata": {
    "colab": {},
    "colab_type": "code",
    "id": "UmihD0yzNBVw"
   },
   "outputs": [],
   "source": [
    "import pandas as pd\n"
   ]
  },
  {
   "cell_type": "code",
   "execution_count": 63,
   "metadata": {
    "colab": {},
    "colab_type": "code",
    "id": "I1LJdd10NBV0",
    "outputId": "12193fa2-89c0-4785-911b-c021856be61e"
   },
   "outputs": [],
   "source": [
    "openrice = pd.read_csv(\"/Users/joycechung/Downloads/Regex/data/open-rice.csv\")"
   ]
  },
  {
   "cell_type": "code",
   "execution_count": 64,
   "metadata": {
    "colab": {},
    "colab_type": "code",
    "id": "I1LJdd10NBV0",
    "outputId": "12193fa2-89c0-4785-911b-c021856be61e"
   },
   "outputs": [
    {
     "data": {
      "text/html": [
       "<div>\n",
       "<style scoped>\n",
       "    .dataframe tbody tr th:only-of-type {\n",
       "        vertical-align: middle;\n",
       "    }\n",
       "\n",
       "    .dataframe tbody tr th {\n",
       "        vertical-align: top;\n",
       "    }\n",
       "\n",
       "    .dataframe thead th {\n",
       "        text-align: right;\n",
       "    }\n",
       "</style>\n",
       "<table border=\"1\" class=\"dataframe\">\n",
       "  <thead>\n",
       "    <tr style=\"text-align: right;\">\n",
       "      <th></th>\n",
       "      <th>address</th>\n",
       "      <th>bookmarks</th>\n",
       "      <th>dislikes</th>\n",
       "      <th>food_type</th>\n",
       "      <th>likes</th>\n",
       "      <th>name</th>\n",
       "      <th>number_of_reviews</th>\n",
       "      <th>price_range</th>\n",
       "    </tr>\n",
       "  </thead>\n",
       "  <tbody>\n",
       "    <tr>\n",
       "      <th>0</th>\n",
       "      <td>Shop J-K., 200 Hollywood Road,</td>\n",
       "      <td>5838</td>\n",
       "      <td>6</td>\n",
       "      <td>Hong Kong Style</td>\n",
       "      <td>78</td>\n",
       "      <td>For Kee Restaurant 科記咖啡餐室</td>\n",
       "      <td>(133 Reviews)</td>\n",
       "      <td>Below $50</td>\n",
       "    </tr>\n",
       "    <tr>\n",
       "      <th>1</th>\n",
       "      <td>G/F, 108 Hollywood Road,</td>\n",
       "      <td>3492</td>\n",
       "      <td>2</td>\n",
       "      <td>International</td>\n",
       "      <td>20</td>\n",
       "      <td>Blue · Butcher &amp; Meat Specialist</td>\n",
       "      <td>(30 Reviews)</td>\n",
       "      <td>$201-400</td>\n",
       "    </tr>\n",
       "    <tr>\n",
       "      <th>2</th>\n",
       "      <td>G/F, 206 Hollywood Road,</td>\n",
       "      <td>5517</td>\n",
       "      <td>5</td>\n",
       "      <td>Thai</td>\n",
       "      <td>31</td>\n",
       "      <td>Chachawan</td>\n",
       "      <td>(43 Reviews)</td>\n",
       "      <td>$201-400</td>\n",
       "    </tr>\n",
       "    <tr>\n",
       "      <th>3</th>\n",
       "      <td>Shop 3018, 3/F, Shun Tak Centre, 168-200 Conna...</td>\n",
       "      <td>1173</td>\n",
       "      <td>1</td>\n",
       "      <td>Hong Kong Style</td>\n",
       "      <td>23</td>\n",
       "      <td>Capital Café 華星冰室</td>\n",
       "      <td>(39 Reviews)</td>\n",
       "      <td>Below $50</td>\n",
       "    </tr>\n",
       "    <tr>\n",
       "      <th>4</th>\n",
       "      <td>G/F, 38 Queens Road West,</td>\n",
       "      <td>1064</td>\n",
       "      <td>1</td>\n",
       "      <td>Indian</td>\n",
       "      <td>50</td>\n",
       "      <td>Namaste Kitchen 滋味廚房</td>\n",
       "      <td>(57 Reviews)</td>\n",
       "      <td>$51-100</td>\n",
       "    </tr>\n",
       "    <tr>\n",
       "      <th>...</th>\n",
       "      <td>...</td>\n",
       "      <td>...</td>\n",
       "      <td>...</td>\n",
       "      <td>...</td>\n",
       "      <td>...</td>\n",
       "      <td>...</td>\n",
       "      <td>...</td>\n",
       "      <td>...</td>\n",
       "    </tr>\n",
       "    <tr>\n",
       "      <th>26160</th>\n",
       "      <td>Rooftop, Courtyard By Marriott Hong Kong Sha T...</td>\n",
       "      <td>2770</td>\n",
       "      <td>0</td>\n",
       "      <td>International</td>\n",
       "      <td>33</td>\n",
       "      <td>LEVELthirty Lounge &amp; Bar</td>\n",
       "      <td>(44 Reviews)</td>\n",
       "      <td>$101-200</td>\n",
       "    </tr>\n",
       "    <tr>\n",
       "      <th>26161</th>\n",
       "      <td>6/F, Yuen Long Landmark,</td>\n",
       "      <td>3374</td>\n",
       "      <td>18</td>\n",
       "      <td>International</td>\n",
       "      <td>59</td>\n",
       "      <td>The West 西宮</td>\n",
       "      <td>(113 Reviews)</td>\n",
       "      <td>$201-400</td>\n",
       "    </tr>\n",
       "    <tr>\n",
       "      <th>26162</th>\n",
       "      <td>2-3/F, Chau Hop Shing Building, 2- 8 Chung On ...</td>\n",
       "      <td>1192</td>\n",
       "      <td>28</td>\n",
       "      <td>International</td>\n",
       "      <td>122</td>\n",
       "      <td>Satay King 沙嗲王</td>\n",
       "      <td>(232 Reviews)</td>\n",
       "      <td>$51-100</td>\n",
       "    </tr>\n",
       "    <tr>\n",
       "      <th>26163</th>\n",
       "      <td>G/F, 9-13 Fuk Sau Lane, Sai Ying Pun,</td>\n",
       "      <td>5927</td>\n",
       "      <td>6</td>\n",
       "      <td>International</td>\n",
       "      <td>37</td>\n",
       "      <td>Locofama</td>\n",
       "      <td>(50 Reviews)</td>\n",
       "      <td>$101-200</td>\n",
       "    </tr>\n",
       "    <tr>\n",
       "      <th>26164</th>\n",
       "      <td>9/F, Hung To Centre, 94-96 How Ming Street,</td>\n",
       "      <td>1736</td>\n",
       "      <td>1</td>\n",
       "      <td>International</td>\n",
       "      <td>33</td>\n",
       "      <td>Centre de Vin</td>\n",
       "      <td>(53 Reviews)</td>\n",
       "      <td>$201-400</td>\n",
       "    </tr>\n",
       "  </tbody>\n",
       "</table>\n",
       "<p>26165 rows × 8 columns</p>\n",
       "</div>"
      ],
      "text/plain": [
       "                                                 address  bookmarks  dislikes  \\\n",
       "0                         Shop J-K., 200 Hollywood Road,       5838         6   \n",
       "1                               G/F, 108 Hollywood Road,       3492         2   \n",
       "2                               G/F, 206 Hollywood Road,       5517         5   \n",
       "3      Shop 3018, 3/F, Shun Tak Centre, 168-200 Conna...       1173         1   \n",
       "4                              G/F, 38 Queens Road West,       1064         1   \n",
       "...                                                  ...        ...       ...   \n",
       "26160  Rooftop, Courtyard By Marriott Hong Kong Sha T...       2770         0   \n",
       "26161                           6/F, Yuen Long Landmark,       3374        18   \n",
       "26162  2-3/F, Chau Hop Shing Building, 2- 8 Chung On ...       1192        28   \n",
       "26163              G/F, 9-13 Fuk Sau Lane, Sai Ying Pun,       5927         6   \n",
       "26164        9/F, Hung To Centre, 94-96 How Ming Street,       1736         1   \n",
       "\n",
       "             food_type  likes                              name  \\\n",
       "0      Hong Kong Style     78         For Kee Restaurant 科記咖啡餐室   \n",
       "1        International     20  Blue · Butcher & Meat Specialist   \n",
       "2                 Thai     31                         Chachawan   \n",
       "3      Hong Kong Style     23                 Capital Café 華星冰室   \n",
       "4               Indian     50              Namaste Kitchen 滋味廚房   \n",
       "...                ...    ...                               ...   \n",
       "26160    International     33          LEVELthirty Lounge & Bar   \n",
       "26161    International     59                       The West 西宮   \n",
       "26162    International    122                    Satay King 沙嗲王   \n",
       "26163    International     37                          Locofama   \n",
       "26164    International     33                     Centre de Vin   \n",
       "\n",
       "      number_of_reviews price_range  \n",
       "0         (133 Reviews)   Below $50  \n",
       "1          (30 Reviews)    $201-400  \n",
       "2          (43 Reviews)    $201-400  \n",
       "3          (39 Reviews)   Below $50  \n",
       "4          (57 Reviews)     $51-100  \n",
       "...                 ...         ...  \n",
       "26160      (44 Reviews)    $101-200  \n",
       "26161     (113 Reviews)    $201-400  \n",
       "26162     (232 Reviews)     $51-100  \n",
       "26163      (50 Reviews)    $101-200  \n",
       "26164      (53 Reviews)    $201-400  \n",
       "\n",
       "[26165 rows x 8 columns]"
      ]
     },
     "execution_count": 64,
     "metadata": {},
     "output_type": "execute_result"
    }
   ],
   "source": [
    "openrice"
   ]
  },
  {
   "cell_type": "code",
   "execution_count": 65,
   "metadata": {},
   "outputs": [
    {
     "data": {
      "text/plain": [
       "address              26165\n",
       "bookmarks            26165\n",
       "dislikes             26165\n",
       "food_type            26165\n",
       "likes                26165\n",
       "name                 26165\n",
       "number_of_reviews    26165\n",
       "price_range          26165\n",
       "dtype: int64"
      ]
     },
     "execution_count": 65,
     "metadata": {},
     "output_type": "execute_result"
    }
   ],
   "source": [
    "openrice.count()"
   ]
  },
  {
   "cell_type": "code",
   "execution_count": 66,
   "metadata": {},
   "outputs": [
    {
     "data": {
      "text/plain": [
       "11011"
      ]
     },
     "execution_count": 66,
     "metadata": {},
     "output_type": "execute_result"
    }
   ],
   "source": [
    "import pandas as pd\n",
    "len(openrice['name'].unique())"
   ]
  },
  {
   "cell_type": "code",
   "execution_count": 67,
   "metadata": {
    "colab": {},
    "colab_type": "code",
    "id": "769BHN2wNBWC"
   },
   "outputs": [],
   "source": [
    "#Removing dataframe rows where 'name' is duplicated\n",
    "openrice = openrice.drop_duplicates(subset=['name'])"
   ]
  },
  {
   "cell_type": "code",
   "execution_count": 68,
   "metadata": {},
   "outputs": [
    {
     "name": "stderr",
     "output_type": "stream",
     "text": [
      "/var/folders/qb/h6wfsqy5125c1m04_b953jz40000gn/T/ipykernel_3977/2899848315.py:12: SettingWithCopyWarning: \n",
      "A value is trying to be set on a copy of a slice from a DataFrame.\n",
      "Try using .loc[row_indexer,col_indexer] = value instead\n",
      "\n",
      "See the caveats in the documentation: https://pandas.pydata.org/pandas-docs/stable/user_guide/indexing.html#returning-a-view-versus-a-copy\n",
      "  openrice[\"reviews_cleaned\"] = openrice[\"number_of_reviews\"].apply(extract_reviews)\n"
     ]
    }
   ],
   "source": [
    "#Use a regex to clean the review col\n",
    "#only keeping the numbers \n",
    "#delete : (, Reviews, )\n",
    "import re \n",
    "\n",
    "def extract_reviews(col_val):\n",
    "    all_chars = re.findall(r\"\\d\", col_val)\n",
    "    return ''.join(all_chars)\n",
    "    #The function extract_reviews now joins all the extracted digits using ''.join(all_chars) \n",
    "    #and returns the resulting string.\n",
    "\n",
    "openrice[\"reviews_cleaned\"] = openrice[\"number_of_reviews\"].apply(extract_reviews)"
   ]
  },
  {
   "cell_type": "code",
   "execution_count": 69,
   "metadata": {},
   "outputs": [
    {
     "name": "stderr",
     "output_type": "stream",
     "text": [
      "/var/folders/qb/h6wfsqy5125c1m04_b953jz40000gn/T/ipykernel_3977/1905204240.py:8: SettingWithCopyWarning: \n",
      "A value is trying to be set on a copy of a slice from a DataFrame.\n",
      "Try using .loc[row_indexer,col_indexer] = value instead\n",
      "\n",
      "See the caveats in the documentation: https://pandas.pydata.org/pandas-docs/stable/user_guide/indexing.html#returning-a-view-versus-a-copy\n",
      "  openrice[\"address_cleaned\"] = openrice[\"address\"].apply(remove_commas)\n"
     ]
    }
   ],
   "source": [
    "#Remove the trailing commas from the address col\n",
    "def remove_commas(col_val):\n",
    "    cleaned_val = re.sub(r\",$\", '', col_val)\n",
    "    return cleaned_val\n",
    "    #The function extract_reviews now joins all the extracted digits using ''.join(all_chars) \n",
    "    #and returns the resulting string.\n",
    "\n",
    "openrice[\"address_cleaned\"] = openrice[\"address\"].apply(remove_commas)"
   ]
  },
  {
   "cell_type": "code",
   "execution_count": 86,
   "metadata": {},
   "outputs": [
    {
     "data": {
      "text/html": [
       "<div>\n",
       "<style scoped>\n",
       "    .dataframe tbody tr th:only-of-type {\n",
       "        vertical-align: middle;\n",
       "    }\n",
       "\n",
       "    .dataframe tbody tr th {\n",
       "        vertical-align: top;\n",
       "    }\n",
       "\n",
       "    .dataframe thead th {\n",
       "        text-align: right;\n",
       "    }\n",
       "</style>\n",
       "<table border=\"1\" class=\"dataframe\">\n",
       "  <thead>\n",
       "    <tr style=\"text-align: right;\">\n",
       "      <th></th>\n",
       "      <th>address</th>\n",
       "      <th>bookmarks</th>\n",
       "      <th>dislikes</th>\n",
       "      <th>food_type</th>\n",
       "      <th>likes</th>\n",
       "      <th>name</th>\n",
       "      <th>number_of_reviews</th>\n",
       "      <th>price_range</th>\n",
       "      <th>reviews_cleaned</th>\n",
       "      <th>address_cleaned</th>\n",
       "      <th>price_range_num</th>\n",
       "    </tr>\n",
       "  </thead>\n",
       "  <tbody>\n",
       "    <tr>\n",
       "      <th>0</th>\n",
       "      <td>Shop J-K., 200 Hollywood Road,</td>\n",
       "      <td>5838</td>\n",
       "      <td>6</td>\n",
       "      <td>Hong Kong Style</td>\n",
       "      <td>78</td>\n",
       "      <td>For Kee Restaurant 科記咖啡餐室</td>\n",
       "      <td>(133 Reviews)</td>\n",
       "      <td>Below $50</td>\n",
       "      <td>133</td>\n",
       "      <td>Shop J-K., 200 Hollywood Road</td>\n",
       "      <td>1</td>\n",
       "    </tr>\n",
       "    <tr>\n",
       "      <th>1</th>\n",
       "      <td>G/F, 108 Hollywood Road,</td>\n",
       "      <td>3492</td>\n",
       "      <td>2</td>\n",
       "      <td>International</td>\n",
       "      <td>20</td>\n",
       "      <td>Blue · Butcher &amp; Meat Specialist</td>\n",
       "      <td>(30 Reviews)</td>\n",
       "      <td>$201-400</td>\n",
       "      <td>30</td>\n",
       "      <td>G/F, 108 Hollywood Road</td>\n",
       "      <td>4</td>\n",
       "    </tr>\n",
       "    <tr>\n",
       "      <th>2</th>\n",
       "      <td>G/F, 206 Hollywood Road,</td>\n",
       "      <td>5517</td>\n",
       "      <td>5</td>\n",
       "      <td>Thai</td>\n",
       "      <td>31</td>\n",
       "      <td>Chachawan</td>\n",
       "      <td>(43 Reviews)</td>\n",
       "      <td>$201-400</td>\n",
       "      <td>43</td>\n",
       "      <td>G/F, 206 Hollywood Road</td>\n",
       "      <td>4</td>\n",
       "    </tr>\n",
       "    <tr>\n",
       "      <th>3</th>\n",
       "      <td>Shop 3018, 3/F, Shun Tak Centre, 168-200 Conna...</td>\n",
       "      <td>1173</td>\n",
       "      <td>1</td>\n",
       "      <td>Hong Kong Style</td>\n",
       "      <td>23</td>\n",
       "      <td>Capital Café 華星冰室</td>\n",
       "      <td>(39 Reviews)</td>\n",
       "      <td>Below $50</td>\n",
       "      <td>39</td>\n",
       "      <td>Shop 3018, 3/F, Shun Tak Centre, 168-200 Conna...</td>\n",
       "      <td>1</td>\n",
       "    </tr>\n",
       "    <tr>\n",
       "      <th>4</th>\n",
       "      <td>G/F, 38 Queens Road West,</td>\n",
       "      <td>1064</td>\n",
       "      <td>1</td>\n",
       "      <td>Indian</td>\n",
       "      <td>50</td>\n",
       "      <td>Namaste Kitchen 滋味廚房</td>\n",
       "      <td>(57 Reviews)</td>\n",
       "      <td>$51-100</td>\n",
       "      <td>57</td>\n",
       "      <td>G/F, 38 Queens Road West</td>\n",
       "      <td>2</td>\n",
       "    </tr>\n",
       "    <tr>\n",
       "      <th>...</th>\n",
       "      <td>...</td>\n",
       "      <td>...</td>\n",
       "      <td>...</td>\n",
       "      <td>...</td>\n",
       "      <td>...</td>\n",
       "      <td>...</td>\n",
       "      <td>...</td>\n",
       "      <td>...</td>\n",
       "      <td>...</td>\n",
       "      <td>...</td>\n",
       "      <td>...</td>\n",
       "    </tr>\n",
       "    <tr>\n",
       "      <th>26017</th>\n",
       "      <td>G/F, 17 Hak Po Street,</td>\n",
       "      <td>539</td>\n",
       "      <td>4</td>\n",
       "      <td>Spanish</td>\n",
       "      <td>31</td>\n",
       "      <td>De Luna Tapas Bar &amp; Restaurant</td>\n",
       "      <td>(44 Reviews)</td>\n",
       "      <td>$201-400</td>\n",
       "      <td>44</td>\n",
       "      <td>G/F, 17 Hak Po Street</td>\n",
       "      <td>4</td>\n",
       "    </tr>\n",
       "    <tr>\n",
       "      <th>26046</th>\n",
       "      <td>1/F, Shun Ho Tower, 24-30 Ice House Street,,</td>\n",
       "      <td>6334</td>\n",
       "      <td>5</td>\n",
       "      <td>Spanish</td>\n",
       "      <td>91</td>\n",
       "      <td>Ole Spanish Restaurant</td>\n",
       "      <td>(116 Reviews)</td>\n",
       "      <td>$401-800</td>\n",
       "      <td>116</td>\n",
       "      <td>1/F, Shun Ho Tower, 24-30 Ice House Street,</td>\n",
       "      <td>5</td>\n",
       "    </tr>\n",
       "    <tr>\n",
       "      <th>26132</th>\n",
       "      <td>Shop 601, L6,  FoodLoft, Mira Place One, 132 N...</td>\n",
       "      <td>2136</td>\n",
       "      <td>6</td>\n",
       "      <td>International</td>\n",
       "      <td>61</td>\n",
       "      <td>My Day</td>\n",
       "      <td>(84 Reviews)</td>\n",
       "      <td>$201-400</td>\n",
       "      <td>84</td>\n",
       "      <td>Shop 601, L6,  FoodLoft, Mira Place One, 132 N...</td>\n",
       "      <td>4</td>\n",
       "    </tr>\n",
       "    <tr>\n",
       "      <th>26141</th>\n",
       "      <td>Shop 208, 1881 Heritage, 2A Canton Road,</td>\n",
       "      <td>3101</td>\n",
       "      <td>2</td>\n",
       "      <td>International</td>\n",
       "      <td>26</td>\n",
       "      <td>Van Gogh Senses</td>\n",
       "      <td>(33 Reviews)</td>\n",
       "      <td>$201-400</td>\n",
       "      <td>33</td>\n",
       "      <td>Shop 208, 1881 Heritage, 2A Canton Road</td>\n",
       "      <td>4</td>\n",
       "    </tr>\n",
       "    <tr>\n",
       "      <th>26143</th>\n",
       "      <td>9/F, Jing Long Commercial Building, 52 Tang Lu...</td>\n",
       "      <td>1249</td>\n",
       "      <td>0</td>\n",
       "      <td>International</td>\n",
       "      <td>33</td>\n",
       "      <td>Su Xi Cafe 素.喜.館</td>\n",
       "      <td>(39 Reviews)</td>\n",
       "      <td>$101-200</td>\n",
       "      <td>39</td>\n",
       "      <td>9/F, Jing Long Commercial Building, 52 Tang Lu...</td>\n",
       "      <td>3</td>\n",
       "    </tr>\n",
       "  </tbody>\n",
       "</table>\n",
       "<p>11011 rows × 11 columns</p>\n",
       "</div>"
      ],
      "text/plain": [
       "                                                 address  bookmarks  dislikes  \\\n",
       "0                         Shop J-K., 200 Hollywood Road,       5838         6   \n",
       "1                               G/F, 108 Hollywood Road,       3492         2   \n",
       "2                               G/F, 206 Hollywood Road,       5517         5   \n",
       "3      Shop 3018, 3/F, Shun Tak Centre, 168-200 Conna...       1173         1   \n",
       "4                              G/F, 38 Queens Road West,       1064         1   \n",
       "...                                                  ...        ...       ...   \n",
       "26017                             G/F, 17 Hak Po Street,        539         4   \n",
       "26046       1/F, Shun Ho Tower, 24-30 Ice House Street,,       6334         5   \n",
       "26132  Shop 601, L6,  FoodLoft, Mira Place One, 132 N...       2136         6   \n",
       "26141           Shop 208, 1881 Heritage, 2A Canton Road,       3101         2   \n",
       "26143  9/F, Jing Long Commercial Building, 52 Tang Lu...       1249         0   \n",
       "\n",
       "             food_type  likes                              name  \\\n",
       "0      Hong Kong Style     78         For Kee Restaurant 科記咖啡餐室   \n",
       "1        International     20  Blue · Butcher & Meat Specialist   \n",
       "2                 Thai     31                         Chachawan   \n",
       "3      Hong Kong Style     23                 Capital Café 華星冰室   \n",
       "4               Indian     50              Namaste Kitchen 滋味廚房   \n",
       "...                ...    ...                               ...   \n",
       "26017          Spanish     31    De Luna Tapas Bar & Restaurant   \n",
       "26046          Spanish     91            Ole Spanish Restaurant   \n",
       "26132    International     61                            My Day   \n",
       "26141    International     26                   Van Gogh Senses   \n",
       "26143    International     33                  Su Xi Cafe 素.喜.館   \n",
       "\n",
       "      number_of_reviews price_range reviews_cleaned  \\\n",
       "0         (133 Reviews)   Below $50             133   \n",
       "1          (30 Reviews)    $201-400              30   \n",
       "2          (43 Reviews)    $201-400              43   \n",
       "3          (39 Reviews)   Below $50              39   \n",
       "4          (57 Reviews)     $51-100              57   \n",
       "...                 ...         ...             ...   \n",
       "26017      (44 Reviews)    $201-400              44   \n",
       "26046     (116 Reviews)    $401-800             116   \n",
       "26132      (84 Reviews)    $201-400              84   \n",
       "26141      (33 Reviews)    $201-400              33   \n",
       "26143      (39 Reviews)    $101-200              39   \n",
       "\n",
       "                                         address_cleaned  price_range_num  \n",
       "0                          Shop J-K., 200 Hollywood Road                1  \n",
       "1                                G/F, 108 Hollywood Road                4  \n",
       "2                                G/F, 206 Hollywood Road                4  \n",
       "3      Shop 3018, 3/F, Shun Tak Centre, 168-200 Conna...                1  \n",
       "4                               G/F, 38 Queens Road West                2  \n",
       "...                                                  ...              ...  \n",
       "26017                              G/F, 17 Hak Po Street                4  \n",
       "26046        1/F, Shun Ho Tower, 24-30 Ice House Street,                5  \n",
       "26132  Shop 601, L6,  FoodLoft, Mira Place One, 132 N...                4  \n",
       "26141            Shop 208, 1881 Heritage, 2A Canton Road                4  \n",
       "26143  9/F, Jing Long Commercial Building, 52 Tang Lu...                3  \n",
       "\n",
       "[11011 rows x 11 columns]"
      ]
     },
     "execution_count": 86,
     "metadata": {},
     "output_type": "execute_result"
    }
   ],
   "source": [
    "openrice"
   ]
  },
  {
   "cell_type": "markdown",
   "metadata": {
    "colab_type": "text",
    "id": "wIMF0nVvNBWE"
   },
   "source": [
    "**2.)** Which restaurant in Hong Kong is the most favorable? In terms of likes, in terms of bookmarks?"
   ]
  },
  {
   "cell_type": "code",
   "execution_count": 109,
   "metadata": {
    "colab": {},
    "colab_type": "code",
    "id": "WGj_uLuzNBWF",
    "outputId": "9249bd1f-5165-4659-8cfc-ad61404919ff"
   },
   "outputs": [
    {
     "data": {
      "text/plain": [
       "569    Australia Dairy Company 澳洲牛奶公司\n",
       "Name: name, dtype: object"
      ]
     },
     "execution_count": 109,
     "metadata": {},
     "output_type": "execute_result"
    }
   ],
   "source": [
    "#Max likes \n",
    "openrice[openrice.likes == openrice.likes.max()]['name']"
   ]
  },
  {
   "cell_type": "code",
   "execution_count": 111,
   "metadata": {
    "colab": {},
    "colab_type": "code",
    "id": "WGj_uLuzNBWF",
    "outputId": "9249bd1f-5165-4659-8cfc-ad61404919ff"
   },
   "outputs": [
    {
     "data": {
      "text/plain": [
       "233    The Place\n",
       "Name: name, dtype: object"
      ]
     },
     "execution_count": 111,
     "metadata": {},
     "output_type": "execute_result"
    }
   ],
   "source": [
    "#Max bookmarks \n",
    "openrice[openrice.bookmarks == openrice.bookmarks.max()]['name']"
   ]
  },
  {
   "cell_type": "markdown",
   "metadata": {
    "colab_type": "text",
    "id": "79zec7ypNBWI"
   },
   "source": [
    "**3.)** What is the price range for the whole open rice dataset?"
   ]
  },
  {
   "cell_type": "code",
   "execution_count": 76,
   "metadata": {
    "colab": {},
    "colab_type": "code",
    "id": "I7xMbrRLNBWJ",
    "jupyter": {
     "source_hidden": true
    },
    "outputId": "384a7926-24ad-430e-e956-796dfe8dd96a"
   },
   "outputs": [
    {
     "data": {
      "text/plain": [
       "array(['Below $50', '$201-400', '$51-100', '$101-200', '$401-800',\n",
       "       'Above $801'], dtype=object)"
      ]
     },
     "execution_count": 76,
     "metadata": {},
     "output_type": "execute_result"
    }
   ],
   "source": [
    "openrice['price_range'].unique()"
   ]
  },
  {
   "cell_type": "code",
   "execution_count": null,
   "metadata": {},
   "outputs": [],
   "source": [
    "#Assigning numerical values to the price_ranges to get the min & max ranges\n",
    "\n",
    "# Create a mapping dictionary for price ranges\n",
    "price_range_mapping = {\n",
    "    'Below $50': 1,\n",
    "    '$51-100': 2,\n",
    "    '$101-200': 3,\n",
    "    '$201-400': 4,\n",
    "    '$401-800': 5,\n",
    "    'Above $801': 6\n",
    "}\n",
    "\n",
    "# Assign numerical values to the 'price_range' column\n",
    "openrice['price_range_num'] = openrice['price_range'].map(price_range_mapping)"
   ]
  },
  {
   "cell_type": "code",
   "execution_count": 84,
   "metadata": {},
   "outputs": [
    {
     "data": {
      "text/plain": [
       "array(['Below $50'], dtype=object)"
      ]
     },
     "execution_count": 84,
     "metadata": {},
     "output_type": "execute_result"
    }
   ],
   "source": [
    "#Min price range\n",
    "openrice[openrice.price_range_num == openrice.price_range_num.min()]['price_range'].unique()"
   ]
  },
  {
   "cell_type": "code",
   "execution_count": 85,
   "metadata": {},
   "outputs": [
    {
     "data": {
      "text/plain": [
       "array(['Above $801'], dtype=object)"
      ]
     },
     "execution_count": 85,
     "metadata": {},
     "output_type": "execute_result"
    }
   ],
   "source": [
    "#Max price range\n",
    "openrice[openrice.price_range_num == openrice.price_range_num.max()]['price_range'].unique()"
   ]
  },
  {
   "cell_type": "markdown",
   "metadata": {
    "colab_type": "text",
    "id": "5na0LBYANBWM"
   },
   "source": [
    "**4.)** By grouping price_range with mean and median, what can you observe from bookmarks and likes?\n"
   ]
  },
  {
   "cell_type": "markdown",
   "metadata": {},
   "source": [
    "#the results of the mean and median of bookmarks and likes in the whole dataframe corresponds most closely to the price range of '$51-200'. "
   ]
  },
  {
   "cell_type": "code",
   "execution_count": 100,
   "metadata": {
    "colab": {},
    "colab_type": "code",
    "id": "0UJ02usxNBWM",
    "outputId": "0f161b59-2d95-48a9-a7e3-1826f51b727e"
   },
   "outputs": [
    {
     "name": "stdout",
     "output_type": "stream",
     "text": [
      "['$51-100']\n"
     ]
    }
   ],
   "source": [
    "#Finding the mean price range\n",
    "desired_mean = round(openrice['price_range_num'].mean()) #rounded to the nearest whole number\n",
    "price_range_unique = openrice.loc[openrice['price_range_num'] == desired_mean, 'price_range'].unique()\n",
    "#The loc function is used to select rows where 'price_range_num' is equal to desired_mean.\n",
    "print(price_range_unique)"
   ]
  },
  {
   "cell_type": "code",
   "execution_count": 91,
   "metadata": {
    "colab": {},
    "colab_type": "code",
    "id": "0UJ02usxNBWM",
    "outputId": "0f161b59-2d95-48a9-a7e3-1826f51b727e"
   },
   "outputs": [
    {
     "data": {
      "text/plain": [
       "array(['$51-100'], dtype=object)"
      ]
     },
     "execution_count": 91,
     "metadata": {},
     "output_type": "execute_result"
    }
   ],
   "source": [
    "#Finding the median price_range \n",
    "openrice[openrice.price_range_num == openrice.price_range_num.median()]['price_range'].unique()"
   ]
  },
  {
   "cell_type": "code",
   "execution_count": 129,
   "metadata": {
    "colab": {},
    "colab_type": "code",
    "id": "0UJ02usxNBWM",
    "outputId": "0f161b59-2d95-48a9-a7e3-1826f51b727e"
   },
   "outputs": [
    {
     "data": {
      "text/plain": [
       "1409.0856416310962"
      ]
     },
     "execution_count": 129,
     "metadata": {},
     "output_type": "execute_result"
    }
   ],
   "source": [
    "openrice['bookmarks'].mean()"
   ]
  },
  {
   "cell_type": "code",
   "execution_count": 118,
   "metadata": {
    "colab": {},
    "colab_type": "code",
    "id": "0UJ02usxNBWM",
    "outputId": "0f161b59-2d95-48a9-a7e3-1826f51b727e"
   },
   "outputs": [
    {
     "name": "stdout",
     "output_type": "stream",
     "text": [
      "price_range\n",
      "$101-200      2017.456737\n",
      "$201-400      3164.735833\n",
      "$401-800      4202.273616\n",
      "$51-100       1111.340086\n",
      "Above $801    3859.130435\n",
      "Below $50      590.380328\n",
      "Name: bookmarks, dtype: float64\n"
     ]
    }
   ],
   "source": [
    "mean_bookmarks = openrice.groupby('price_range')['bookmarks'].mean()\n",
    "print(mean_bookmarks)"
   ]
  },
  {
   "cell_type": "code",
   "execution_count": 128,
   "metadata": {
    "colab": {},
    "colab_type": "code",
    "id": "0UJ02usxNBWM",
    "outputId": "0f161b59-2d95-48a9-a7e3-1826f51b727e"
   },
   "outputs": [
    {
     "data": {
      "text/plain": [
       "314.0"
      ]
     },
     "execution_count": 128,
     "metadata": {},
     "output_type": "execute_result"
    }
   ],
   "source": [
    "openrice['bookmarks'].median()"
   ]
  },
  {
   "cell_type": "code",
   "execution_count": 120,
   "metadata": {
    "colab": {},
    "colab_type": "code",
    "id": "0UJ02usxNBWM",
    "outputId": "0f161b59-2d95-48a9-a7e3-1826f51b727e"
   },
   "outputs": [
    {
     "name": "stdout",
     "output_type": "stream",
     "text": [
      "price_range\n",
      "$101-200       768.0\n",
      "$201-400      1587.0\n",
      "$401-800      2209.0\n",
      "$51-100        293.0\n",
      "Above $801    2768.5\n",
      "Below $50       95.0\n",
      "Name: bookmarks, dtype: float64\n"
     ]
    }
   ],
   "source": [
    "median_bookmarks = openrice.groupby('price_range')['bookmarks'].median()\n",
    "print(median_bookmarks)"
   ]
  },
  {
   "cell_type": "code",
   "execution_count": 126,
   "metadata": {
    "colab": {},
    "colab_type": "code",
    "id": "0UJ02usxNBWM",
    "outputId": "0f161b59-2d95-48a9-a7e3-1826f51b727e"
   },
   "outputs": [
    {
     "data": {
      "text/plain": [
       "31.42521115248388"
      ]
     },
     "execution_count": 126,
     "metadata": {},
     "output_type": "execute_result"
    }
   ],
   "source": [
    "openrice['likes'].mean()"
   ]
  },
  {
   "cell_type": "code",
   "execution_count": 124,
   "metadata": {},
   "outputs": [
    {
     "name": "stdout",
     "output_type": "stream",
     "text": [
      "price_range\n",
      "$101-200      45.568661\n",
      "$201-400      61.307759\n",
      "$401-800      56.827362\n",
      "$51-100       27.492014\n",
      "Above $801    54.456522\n",
      "Below $50     16.791038\n",
      "Name: likes, dtype: float64\n"
     ]
    }
   ],
   "source": [
    "#Mean likes \n",
    "\n",
    "mean_likes = openrice.groupby('price_range')['likes'].mean()\n",
    "print(mean_likes)"
   ]
  },
  {
   "cell_type": "code",
   "execution_count": 130,
   "metadata": {},
   "outputs": [
    {
     "data": {
      "text/plain": [
       "10.0"
      ]
     },
     "execution_count": 130,
     "metadata": {},
     "output_type": "execute_result"
    }
   ],
   "source": [
    "openrice['likes'].median()"
   ]
  },
  {
   "cell_type": "code",
   "execution_count": 123,
   "metadata": {},
   "outputs": [
    {
     "name": "stdout",
     "output_type": "stream",
     "text": [
      "price_range\n",
      "$101-200      19.0\n",
      "$201-400      30.0\n",
      "$401-800      35.0\n",
      "$51-100        9.0\n",
      "Above $801    22.5\n",
      "Below $50      5.0\n",
      "Name: likes, dtype: float64\n"
     ]
    }
   ],
   "source": [
    "median_likes = openrice.groupby('price_range')['likes'].median()\n",
    "print(median_likes)"
   ]
  },
  {
   "cell_type": "markdown",
   "metadata": {
    "colab_type": "text",
    "id": "6aCmWdHeNBWP"
   },
   "source": [
    "There's too many restaurants types, this can hinder the analysis. Let's make a new column for HK Style Resturants."
   ]
  },
  {
   "cell_type": "code",
   "execution_count": 131,
   "metadata": {},
   "outputs": [
    {
     "name": "stderr",
     "output_type": "stream",
     "text": [
      "/var/folders/qb/h6wfsqy5125c1m04_b953jz40000gn/T/ipykernel_3977/474021108.py:1: SettingWithCopyWarning: \n",
      "A value is trying to be set on a copy of a slice from a DataFrame.\n",
      "Try using .loc[row_indexer,col_indexer] = value instead\n",
      "\n",
      "See the caveats in the documentation: https://pandas.pydata.org/pandas-docs/stable/user_guide/indexing.html#returning-a-view-versus-a-copy\n",
      "  openrice['HK Style Restaurants'] = openrice['food_type'] == 'Hong Kong Style'\n"
     ]
    }
   ],
   "source": [
    "openrice['HK Style Restaurants'] = openrice['food_type'] == 'Hong Kong Style'"
   ]
  },
  {
   "cell_type": "code",
   "execution_count": 132,
   "metadata": {
    "collapsed": true,
    "jupyter": {
     "outputs_hidden": true,
     "source_hidden": true
    }
   },
   "outputs": [
    {
     "data": {
      "text/html": [
       "<div>\n",
       "<style scoped>\n",
       "    .dataframe tbody tr th:only-of-type {\n",
       "        vertical-align: middle;\n",
       "    }\n",
       "\n",
       "    .dataframe tbody tr th {\n",
       "        vertical-align: top;\n",
       "    }\n",
       "\n",
       "    .dataframe thead th {\n",
       "        text-align: right;\n",
       "    }\n",
       "</style>\n",
       "<table border=\"1\" class=\"dataframe\">\n",
       "  <thead>\n",
       "    <tr style=\"text-align: right;\">\n",
       "      <th></th>\n",
       "      <th>address</th>\n",
       "      <th>bookmarks</th>\n",
       "      <th>dislikes</th>\n",
       "      <th>food_type</th>\n",
       "      <th>likes</th>\n",
       "      <th>name</th>\n",
       "      <th>number_of_reviews</th>\n",
       "      <th>price_range</th>\n",
       "      <th>reviews_cleaned</th>\n",
       "      <th>address_cleaned</th>\n",
       "      <th>price_range_num</th>\n",
       "      <th>HK Style Restaurants</th>\n",
       "    </tr>\n",
       "  </thead>\n",
       "  <tbody>\n",
       "    <tr>\n",
       "      <th>0</th>\n",
       "      <td>Shop J-K., 200 Hollywood Road,</td>\n",
       "      <td>5838</td>\n",
       "      <td>6</td>\n",
       "      <td>Hong Kong Style</td>\n",
       "      <td>78</td>\n",
       "      <td>For Kee Restaurant 科記咖啡餐室</td>\n",
       "      <td>(133 Reviews)</td>\n",
       "      <td>Below $50</td>\n",
       "      <td>133</td>\n",
       "      <td>Shop J-K., 200 Hollywood Road</td>\n",
       "      <td>1</td>\n",
       "      <td>True</td>\n",
       "    </tr>\n",
       "    <tr>\n",
       "      <th>1</th>\n",
       "      <td>G/F, 108 Hollywood Road,</td>\n",
       "      <td>3492</td>\n",
       "      <td>2</td>\n",
       "      <td>International</td>\n",
       "      <td>20</td>\n",
       "      <td>Blue · Butcher &amp; Meat Specialist</td>\n",
       "      <td>(30 Reviews)</td>\n",
       "      <td>$201-400</td>\n",
       "      <td>30</td>\n",
       "      <td>G/F, 108 Hollywood Road</td>\n",
       "      <td>4</td>\n",
       "      <td>False</td>\n",
       "    </tr>\n",
       "    <tr>\n",
       "      <th>2</th>\n",
       "      <td>G/F, 206 Hollywood Road,</td>\n",
       "      <td>5517</td>\n",
       "      <td>5</td>\n",
       "      <td>Thai</td>\n",
       "      <td>31</td>\n",
       "      <td>Chachawan</td>\n",
       "      <td>(43 Reviews)</td>\n",
       "      <td>$201-400</td>\n",
       "      <td>43</td>\n",
       "      <td>G/F, 206 Hollywood Road</td>\n",
       "      <td>4</td>\n",
       "      <td>False</td>\n",
       "    </tr>\n",
       "    <tr>\n",
       "      <th>3</th>\n",
       "      <td>Shop 3018, 3/F, Shun Tak Centre, 168-200 Conna...</td>\n",
       "      <td>1173</td>\n",
       "      <td>1</td>\n",
       "      <td>Hong Kong Style</td>\n",
       "      <td>23</td>\n",
       "      <td>Capital Café 華星冰室</td>\n",
       "      <td>(39 Reviews)</td>\n",
       "      <td>Below $50</td>\n",
       "      <td>39</td>\n",
       "      <td>Shop 3018, 3/F, Shun Tak Centre, 168-200 Conna...</td>\n",
       "      <td>1</td>\n",
       "      <td>True</td>\n",
       "    </tr>\n",
       "    <tr>\n",
       "      <th>4</th>\n",
       "      <td>G/F, 38 Queens Road West,</td>\n",
       "      <td>1064</td>\n",
       "      <td>1</td>\n",
       "      <td>Indian</td>\n",
       "      <td>50</td>\n",
       "      <td>Namaste Kitchen 滋味廚房</td>\n",
       "      <td>(57 Reviews)</td>\n",
       "      <td>$51-100</td>\n",
       "      <td>57</td>\n",
       "      <td>G/F, 38 Queens Road West</td>\n",
       "      <td>2</td>\n",
       "      <td>False</td>\n",
       "    </tr>\n",
       "    <tr>\n",
       "      <th>...</th>\n",
       "      <td>...</td>\n",
       "      <td>...</td>\n",
       "      <td>...</td>\n",
       "      <td>...</td>\n",
       "      <td>...</td>\n",
       "      <td>...</td>\n",
       "      <td>...</td>\n",
       "      <td>...</td>\n",
       "      <td>...</td>\n",
       "      <td>...</td>\n",
       "      <td>...</td>\n",
       "      <td>...</td>\n",
       "    </tr>\n",
       "    <tr>\n",
       "      <th>26017</th>\n",
       "      <td>G/F, 17 Hak Po Street,</td>\n",
       "      <td>539</td>\n",
       "      <td>4</td>\n",
       "      <td>Spanish</td>\n",
       "      <td>31</td>\n",
       "      <td>De Luna Tapas Bar &amp; Restaurant</td>\n",
       "      <td>(44 Reviews)</td>\n",
       "      <td>$201-400</td>\n",
       "      <td>44</td>\n",
       "      <td>G/F, 17 Hak Po Street</td>\n",
       "      <td>4</td>\n",
       "      <td>False</td>\n",
       "    </tr>\n",
       "    <tr>\n",
       "      <th>26046</th>\n",
       "      <td>1/F, Shun Ho Tower, 24-30 Ice House Street,,</td>\n",
       "      <td>6334</td>\n",
       "      <td>5</td>\n",
       "      <td>Spanish</td>\n",
       "      <td>91</td>\n",
       "      <td>Ole Spanish Restaurant</td>\n",
       "      <td>(116 Reviews)</td>\n",
       "      <td>$401-800</td>\n",
       "      <td>116</td>\n",
       "      <td>1/F, Shun Ho Tower, 24-30 Ice House Street,</td>\n",
       "      <td>5</td>\n",
       "      <td>False</td>\n",
       "    </tr>\n",
       "    <tr>\n",
       "      <th>26132</th>\n",
       "      <td>Shop 601, L6,  FoodLoft, Mira Place One, 132 N...</td>\n",
       "      <td>2136</td>\n",
       "      <td>6</td>\n",
       "      <td>International</td>\n",
       "      <td>61</td>\n",
       "      <td>My Day</td>\n",
       "      <td>(84 Reviews)</td>\n",
       "      <td>$201-400</td>\n",
       "      <td>84</td>\n",
       "      <td>Shop 601, L6,  FoodLoft, Mira Place One, 132 N...</td>\n",
       "      <td>4</td>\n",
       "      <td>False</td>\n",
       "    </tr>\n",
       "    <tr>\n",
       "      <th>26141</th>\n",
       "      <td>Shop 208, 1881 Heritage, 2A Canton Road,</td>\n",
       "      <td>3101</td>\n",
       "      <td>2</td>\n",
       "      <td>International</td>\n",
       "      <td>26</td>\n",
       "      <td>Van Gogh Senses</td>\n",
       "      <td>(33 Reviews)</td>\n",
       "      <td>$201-400</td>\n",
       "      <td>33</td>\n",
       "      <td>Shop 208, 1881 Heritage, 2A Canton Road</td>\n",
       "      <td>4</td>\n",
       "      <td>False</td>\n",
       "    </tr>\n",
       "    <tr>\n",
       "      <th>26143</th>\n",
       "      <td>9/F, Jing Long Commercial Building, 52 Tang Lu...</td>\n",
       "      <td>1249</td>\n",
       "      <td>0</td>\n",
       "      <td>International</td>\n",
       "      <td>33</td>\n",
       "      <td>Su Xi Cafe 素.喜.館</td>\n",
       "      <td>(39 Reviews)</td>\n",
       "      <td>$101-200</td>\n",
       "      <td>39</td>\n",
       "      <td>9/F, Jing Long Commercial Building, 52 Tang Lu...</td>\n",
       "      <td>3</td>\n",
       "      <td>False</td>\n",
       "    </tr>\n",
       "  </tbody>\n",
       "</table>\n",
       "<p>11011 rows × 12 columns</p>\n",
       "</div>"
      ],
      "text/plain": [
       "                                                 address  bookmarks  dislikes  \\\n",
       "0                         Shop J-K., 200 Hollywood Road,       5838         6   \n",
       "1                               G/F, 108 Hollywood Road,       3492         2   \n",
       "2                               G/F, 206 Hollywood Road,       5517         5   \n",
       "3      Shop 3018, 3/F, Shun Tak Centre, 168-200 Conna...       1173         1   \n",
       "4                              G/F, 38 Queens Road West,       1064         1   \n",
       "...                                                  ...        ...       ...   \n",
       "26017                             G/F, 17 Hak Po Street,        539         4   \n",
       "26046       1/F, Shun Ho Tower, 24-30 Ice House Street,,       6334         5   \n",
       "26132  Shop 601, L6,  FoodLoft, Mira Place One, 132 N...       2136         6   \n",
       "26141           Shop 208, 1881 Heritage, 2A Canton Road,       3101         2   \n",
       "26143  9/F, Jing Long Commercial Building, 52 Tang Lu...       1249         0   \n",
       "\n",
       "             food_type  likes                              name  \\\n",
       "0      Hong Kong Style     78         For Kee Restaurant 科記咖啡餐室   \n",
       "1        International     20  Blue · Butcher & Meat Specialist   \n",
       "2                 Thai     31                         Chachawan   \n",
       "3      Hong Kong Style     23                 Capital Café 華星冰室   \n",
       "4               Indian     50              Namaste Kitchen 滋味廚房   \n",
       "...                ...    ...                               ...   \n",
       "26017          Spanish     31    De Luna Tapas Bar & Restaurant   \n",
       "26046          Spanish     91            Ole Spanish Restaurant   \n",
       "26132    International     61                            My Day   \n",
       "26141    International     26                   Van Gogh Senses   \n",
       "26143    International     33                  Su Xi Cafe 素.喜.館   \n",
       "\n",
       "      number_of_reviews price_range reviews_cleaned  \\\n",
       "0         (133 Reviews)   Below $50             133   \n",
       "1          (30 Reviews)    $201-400              30   \n",
       "2          (43 Reviews)    $201-400              43   \n",
       "3          (39 Reviews)   Below $50              39   \n",
       "4          (57 Reviews)     $51-100              57   \n",
       "...                 ...         ...             ...   \n",
       "26017      (44 Reviews)    $201-400              44   \n",
       "26046     (116 Reviews)    $401-800             116   \n",
       "26132      (84 Reviews)    $201-400              84   \n",
       "26141      (33 Reviews)    $201-400              33   \n",
       "26143      (39 Reviews)    $101-200              39   \n",
       "\n",
       "                                         address_cleaned  price_range_num  \\\n",
       "0                          Shop J-K., 200 Hollywood Road                1   \n",
       "1                                G/F, 108 Hollywood Road                4   \n",
       "2                                G/F, 206 Hollywood Road                4   \n",
       "3      Shop 3018, 3/F, Shun Tak Centre, 168-200 Conna...                1   \n",
       "4                               G/F, 38 Queens Road West                2   \n",
       "...                                                  ...              ...   \n",
       "26017                              G/F, 17 Hak Po Street                4   \n",
       "26046        1/F, Shun Ho Tower, 24-30 Ice House Street,                5   \n",
       "26132  Shop 601, L6,  FoodLoft, Mira Place One, 132 N...                4   \n",
       "26141            Shop 208, 1881 Heritage, 2A Canton Road                4   \n",
       "26143  9/F, Jing Long Commercial Building, 52 Tang Lu...                3   \n",
       "\n",
       "       HK Style Restaurants  \n",
       "0                      True  \n",
       "1                     False  \n",
       "2                     False  \n",
       "3                      True  \n",
       "4                     False  \n",
       "...                     ...  \n",
       "26017                 False  \n",
       "26046                 False  \n",
       "26132                 False  \n",
       "26141                 False  \n",
       "26143                 False  \n",
       "\n",
       "[11011 rows x 12 columns]"
      ]
     },
     "execution_count": 132,
     "metadata": {},
     "output_type": "execute_result"
    }
   ],
   "source": [
    "openrice"
   ]
  },
  {
   "cell_type": "markdown",
   "metadata": {
    "colab_type": "text",
    "id": "Y5dcZWn2NBWX"
   },
   "source": [
    "**5.)** Select price_range, likes, bookmarks,  HKresturant as a new dataframe."
   ]
  },
  {
   "cell_type": "code",
   "execution_count": 133,
   "metadata": {
    "colab": {},
    "colab_type": "code",
    "id": "wnhBKrRMNBWX"
   },
   "outputs": [],
   "source": [
    "new_df = openrice[['price_range', 'likes', 'bookmarks', 'HK Style Restaurants']].copy()"
   ]
  },
  {
   "cell_type": "code",
   "execution_count": 134,
   "metadata": {
    "collapsed": true,
    "jupyter": {
     "outputs_hidden": true
    }
   },
   "outputs": [
    {
     "data": {
      "text/html": [
       "<div>\n",
       "<style scoped>\n",
       "    .dataframe tbody tr th:only-of-type {\n",
       "        vertical-align: middle;\n",
       "    }\n",
       "\n",
       "    .dataframe tbody tr th {\n",
       "        vertical-align: top;\n",
       "    }\n",
       "\n",
       "    .dataframe thead th {\n",
       "        text-align: right;\n",
       "    }\n",
       "</style>\n",
       "<table border=\"1\" class=\"dataframe\">\n",
       "  <thead>\n",
       "    <tr style=\"text-align: right;\">\n",
       "      <th></th>\n",
       "      <th>price_range</th>\n",
       "      <th>likes</th>\n",
       "      <th>bookmarks</th>\n",
       "      <th>HK Style Restaurants</th>\n",
       "    </tr>\n",
       "  </thead>\n",
       "  <tbody>\n",
       "    <tr>\n",
       "      <th>0</th>\n",
       "      <td>Below $50</td>\n",
       "      <td>78</td>\n",
       "      <td>5838</td>\n",
       "      <td>True</td>\n",
       "    </tr>\n",
       "    <tr>\n",
       "      <th>1</th>\n",
       "      <td>$201-400</td>\n",
       "      <td>20</td>\n",
       "      <td>3492</td>\n",
       "      <td>False</td>\n",
       "    </tr>\n",
       "    <tr>\n",
       "      <th>2</th>\n",
       "      <td>$201-400</td>\n",
       "      <td>31</td>\n",
       "      <td>5517</td>\n",
       "      <td>False</td>\n",
       "    </tr>\n",
       "    <tr>\n",
       "      <th>3</th>\n",
       "      <td>Below $50</td>\n",
       "      <td>23</td>\n",
       "      <td>1173</td>\n",
       "      <td>True</td>\n",
       "    </tr>\n",
       "    <tr>\n",
       "      <th>4</th>\n",
       "      <td>$51-100</td>\n",
       "      <td>50</td>\n",
       "      <td>1064</td>\n",
       "      <td>False</td>\n",
       "    </tr>\n",
       "    <tr>\n",
       "      <th>...</th>\n",
       "      <td>...</td>\n",
       "      <td>...</td>\n",
       "      <td>...</td>\n",
       "      <td>...</td>\n",
       "    </tr>\n",
       "    <tr>\n",
       "      <th>26017</th>\n",
       "      <td>$201-400</td>\n",
       "      <td>31</td>\n",
       "      <td>539</td>\n",
       "      <td>False</td>\n",
       "    </tr>\n",
       "    <tr>\n",
       "      <th>26046</th>\n",
       "      <td>$401-800</td>\n",
       "      <td>91</td>\n",
       "      <td>6334</td>\n",
       "      <td>False</td>\n",
       "    </tr>\n",
       "    <tr>\n",
       "      <th>26132</th>\n",
       "      <td>$201-400</td>\n",
       "      <td>61</td>\n",
       "      <td>2136</td>\n",
       "      <td>False</td>\n",
       "    </tr>\n",
       "    <tr>\n",
       "      <th>26141</th>\n",
       "      <td>$201-400</td>\n",
       "      <td>26</td>\n",
       "      <td>3101</td>\n",
       "      <td>False</td>\n",
       "    </tr>\n",
       "    <tr>\n",
       "      <th>26143</th>\n",
       "      <td>$101-200</td>\n",
       "      <td>33</td>\n",
       "      <td>1249</td>\n",
       "      <td>False</td>\n",
       "    </tr>\n",
       "  </tbody>\n",
       "</table>\n",
       "<p>11011 rows × 4 columns</p>\n",
       "</div>"
      ],
      "text/plain": [
       "      price_range  likes  bookmarks  HK Style Restaurants\n",
       "0       Below $50     78       5838                  True\n",
       "1        $201-400     20       3492                 False\n",
       "2        $201-400     31       5517                 False\n",
       "3       Below $50     23       1173                  True\n",
       "4         $51-100     50       1064                 False\n",
       "...           ...    ...        ...                   ...\n",
       "26017    $201-400     31        539                 False\n",
       "26046    $401-800     91       6334                 False\n",
       "26132    $201-400     61       2136                 False\n",
       "26141    $201-400     26       3101                 False\n",
       "26143    $101-200     33       1249                 False\n",
       "\n",
       "[11011 rows x 4 columns]"
      ]
     },
     "execution_count": 134,
     "metadata": {},
     "output_type": "execute_result"
    }
   ],
   "source": [
    "new_df"
   ]
  },
  {
   "cell_type": "markdown",
   "metadata": {
    "colab_type": "text",
    "id": "3J0bUYBMNBWa"
   },
   "source": [
    "**6.)** Use your new dataframe to make box plot and violin plots."
   ]
  },
  {
   "cell_type": "code",
   "execution_count": 141,
   "metadata": {
    "colab": {},
    "colab_type": "code",
    "id": "X7_-zRSjNBWd"
   },
   "outputs": [
    {
     "data": {
      "text/plain": [
       "<Axes: ylabel='price_range'>"
      ]
     },
     "execution_count": 141,
     "metadata": {},
     "output_type": "execute_result"
    },
    {
     "data": {
      "image/png": "[encoded data removed]",
      "text/plain": [
       "<Figure size 640x480 with 1 Axes>"
      ]
     },
     "metadata": {},
     "output_type": "display_data"
    }
   ],
   "source": [
    "#Boxplot \n",
    "import seaborn as sns\n",
    "sns.boxplot(y=new_df[\"price_range\"])"
   ]
  },
  {
   "cell_type": "code",
   "execution_count": 151,
   "metadata": {
    "colab": {},
    "colab_type": "code",
    "id": "xhdYUpVQNBWf",
    "outputId": "a03abc53-aea2-45b9-df53-81cce1070ad0",
    "scrolled": true
   },
   "outputs": [
    {
     "data": {
      "text/plain": [
       "<Axes: xlabel='price_range', ylabel='bookmarks'>"
      ]
     },
     "execution_count": 151,
     "metadata": {},
     "output_type": "execute_result"
    },
    {
     "data": {
      "image/png": "[encoded data removed]",
      "text/plain": [
       "<Figure size 640x480 with 1 Axes>"
      ]
     },
     "metadata": {},
     "output_type": "display_data"
    }
   ],
   "source": [
    "#Violin plot \n",
    "import seaborn as sns\n",
    "sns.violinplot(x=new_df[\"price_range\"], y=new_df[\"bookmarks\"])"
   ]
  },
  {
   "cell_type": "code",
   "execution_count": null,
   "metadata": {
    "colab": {},
    "colab_type": "code",
    "id": "xhdYUpVQNBWf",
    "outputId": "a03abc53-aea2-45b9-df53-81cce1070ad0",
    "scrolled": true
   },
   "outputs": [],
   "source": [
    "When you should use a violin plot\n",
    "Violin plots are used when you want to observe the distribution of numeric data, and are especially useful when you want to make a comparison of distributions between multiple groups. The peaks, valleys, and tails of each group’s density curve can be compared to see where groups are similar or different. "
   ]
  },
  {
   "cell_type": "markdown",
   "metadata": {
    "colab_type": "text",
    "id": "ZPFbuUN7NBWi"
   },
   "source": [
    "# Unicef Data\n",
    "\n",
    "When working with data we may aberiviate the columns names to make them simpler to type. However we need to be able to change them back.\n"
   ]
  },
  {
   "cell_type": "code",
   "execution_count": 152,
   "metadata": {
    "colab": {},
    "colab_type": "code",
    "id": "VUhcSc0nNBWi"
   },
   "outputs": [],
   "source": [
    "import pandas as pd"
   ]
  },
  {
   "cell_type": "code",
   "execution_count": 154,
   "metadata": {
    "colab": {},
    "colab_type": "code",
    "id": "mzFP9sCmNBWl",
    "outputId": "a52705c9-be74-4a50-acb0-64fab3c98644"
   },
   "outputs": [
    {
     "name": "stderr",
     "output_type": "stream",
     "text": [
      "/var/folders/qb/h6wfsqy5125c1m04_b953jz40000gn/T/ipykernel_3977/310012291.py:1: DtypeWarning: Columns (110,111,112,120) have mixed types. Specify dtype option on import or set low_memory=False.\n",
      "  unicef = pd.read_csv(\"/Users/joycechung/Downloads/mn.csv\")\n"
     ]
    }
   ],
   "source": [
    "unicef = pd.read_csv(\"/Users/joycechung/Downloads/mn.csv\")"
   ]
  },
  {
   "cell_type": "code",
   "execution_count": 155,
   "metadata": {
    "colab": {},
    "colab_type": "code",
    "id": "uZsyBDUjNBWn",
    "outputId": "f3baafa4-1e6c-4940-a5ee-e55cb3e1d58b"
   },
   "outputs": [
    {
     "data": {
      "text/html": [
       "<div>\n",
       "<style scoped>\n",
       "    .dataframe tbody tr th:only-of-type {\n",
       "        vertical-align: middle;\n",
       "    }\n",
       "\n",
       "    .dataframe tbody tr th {\n",
       "        vertical-align: top;\n",
       "    }\n",
       "\n",
       "    .dataframe thead th {\n",
       "        text-align: right;\n",
       "    }\n",
       "</style>\n",
       "<table border=\"1\" class=\"dataframe\">\n",
       "  <thead>\n",
       "    <tr style=\"text-align: right;\">\n",
       "      <th></th>\n",
       "      <th>Unnamed: 0</th>\n",
       "      <th>HH1</th>\n",
       "      <th>HH2</th>\n",
       "      <th>LN</th>\n",
       "      <th>MWM1</th>\n",
       "      <th>MWM2</th>\n",
       "      <th>MWM4</th>\n",
       "      <th>MWM5</th>\n",
       "      <th>MWM6D</th>\n",
       "      <th>MWM6M</th>\n",
       "      <th>...</th>\n",
       "      <th>MCSURV</th>\n",
       "      <th>MCDEAD</th>\n",
       "      <th>mwelevel</th>\n",
       "      <th>mnweight</th>\n",
       "      <th>wscore</th>\n",
       "      <th>windex5</th>\n",
       "      <th>wscoreu</th>\n",
       "      <th>windex5u</th>\n",
       "      <th>wscorer</th>\n",
       "      <th>windex5r</th>\n",
       "    </tr>\n",
       "  </thead>\n",
       "  <tbody>\n",
       "    <tr>\n",
       "      <th>0</th>\n",
       "      <td>1</td>\n",
       "      <td>1</td>\n",
       "      <td>17</td>\n",
       "      <td>1</td>\n",
       "      <td>1</td>\n",
       "      <td>17</td>\n",
       "      <td>1</td>\n",
       "      <td>14</td>\n",
       "      <td>7</td>\n",
       "      <td>4</td>\n",
       "      <td>...</td>\n",
       "      <td>0.0</td>\n",
       "      <td>0.0</td>\n",
       "      <td>Higher</td>\n",
       "      <td>0.403797</td>\n",
       "      <td>1.603670</td>\n",
       "      <td>5</td>\n",
       "      <td>1.272552</td>\n",
       "      <td>5.0</td>\n",
       "      <td>NaN</td>\n",
       "      <td>NaN</td>\n",
       "    </tr>\n",
       "    <tr>\n",
       "      <th>1</th>\n",
       "      <td>2</td>\n",
       "      <td>1</td>\n",
       "      <td>20</td>\n",
       "      <td>1</td>\n",
       "      <td>1</td>\n",
       "      <td>20</td>\n",
       "      <td>1</td>\n",
       "      <td>14</td>\n",
       "      <td>7</td>\n",
       "      <td>4</td>\n",
       "      <td>...</td>\n",
       "      <td>0.0</td>\n",
       "      <td>0.0</td>\n",
       "      <td>Higher</td>\n",
       "      <td>0.403797</td>\n",
       "      <td>1.543277</td>\n",
       "      <td>5</td>\n",
       "      <td>1.089026</td>\n",
       "      <td>5.0</td>\n",
       "      <td>NaN</td>\n",
       "      <td>NaN</td>\n",
       "    </tr>\n",
       "    <tr>\n",
       "      <th>2</th>\n",
       "      <td>3</td>\n",
       "      <td>2</td>\n",
       "      <td>1</td>\n",
       "      <td>1</td>\n",
       "      <td>2</td>\n",
       "      <td>1</td>\n",
       "      <td>1</td>\n",
       "      <td>9</td>\n",
       "      <td>8</td>\n",
       "      <td>4</td>\n",
       "      <td>...</td>\n",
       "      <td>3.0</td>\n",
       "      <td>0.0</td>\n",
       "      <td>Primary</td>\n",
       "      <td>1.031926</td>\n",
       "      <td>0.878635</td>\n",
       "      <td>4</td>\n",
       "      <td>-0.930721</td>\n",
       "      <td>1.0</td>\n",
       "      <td>NaN</td>\n",
       "      <td>NaN</td>\n",
       "    </tr>\n",
       "    <tr>\n",
       "      <th>3</th>\n",
       "      <td>4</td>\n",
       "      <td>2</td>\n",
       "      <td>1</td>\n",
       "      <td>5</td>\n",
       "      <td>2</td>\n",
       "      <td>1</td>\n",
       "      <td>5</td>\n",
       "      <td>9</td>\n",
       "      <td>12</td>\n",
       "      <td>4</td>\n",
       "      <td>...</td>\n",
       "      <td>NaN</td>\n",
       "      <td>NaN</td>\n",
       "      <td>NaN</td>\n",
       "      <td>0.000000</td>\n",
       "      <td>0.000000</td>\n",
       "      <td>0</td>\n",
       "      <td>0.000000</td>\n",
       "      <td>0.0</td>\n",
       "      <td>0.0</td>\n",
       "      <td>0.0</td>\n",
       "    </tr>\n",
       "    <tr>\n",
       "      <th>4</th>\n",
       "      <td>5</td>\n",
       "      <td>2</td>\n",
       "      <td>1</td>\n",
       "      <td>8</td>\n",
       "      <td>2</td>\n",
       "      <td>1</td>\n",
       "      <td>8</td>\n",
       "      <td>9</td>\n",
       "      <td>8</td>\n",
       "      <td>4</td>\n",
       "      <td>...</td>\n",
       "      <td>0.0</td>\n",
       "      <td>0.0</td>\n",
       "      <td>Secondary</td>\n",
       "      <td>1.031926</td>\n",
       "      <td>0.878635</td>\n",
       "      <td>4</td>\n",
       "      <td>-0.930721</td>\n",
       "      <td>1.0</td>\n",
       "      <td>NaN</td>\n",
       "      <td>NaN</td>\n",
       "    </tr>\n",
       "  </tbody>\n",
       "</table>\n",
       "<p>5 rows × 159 columns</p>\n",
       "</div>"
      ],
      "text/plain": [
       "   Unnamed: 0  HH1  HH2  LN  MWM1  MWM2  MWM4  MWM5  MWM6D  MWM6M  ...  \\\n",
       "0           1    1   17   1     1    17     1    14      7      4  ...   \n",
       "1           2    1   20   1     1    20     1    14      7      4  ...   \n",
       "2           3    2    1   1     2     1     1     9      8      4  ...   \n",
       "3           4    2    1   5     2     1     5     9     12      4  ...   \n",
       "4           5    2    1   8     2     1     8     9      8      4  ...   \n",
       "\n",
       "   MCSURV MCDEAD   mwelevel  mnweight    wscore  windex5   wscoreu  windex5u  \\\n",
       "0     0.0    0.0     Higher  0.403797  1.603670        5  1.272552       5.0   \n",
       "1     0.0    0.0     Higher  0.403797  1.543277        5  1.089026       5.0   \n",
       "2     3.0    0.0    Primary  1.031926  0.878635        4 -0.930721       1.0   \n",
       "3     NaN    NaN        NaN  0.000000  0.000000        0  0.000000       0.0   \n",
       "4     0.0    0.0  Secondary  1.031926  0.878635        4 -0.930721       1.0   \n",
       "\n",
       "   wscorer  windex5r  \n",
       "0      NaN       NaN  \n",
       "1      NaN       NaN  \n",
       "2      NaN       NaN  \n",
       "3      0.0       0.0  \n",
       "4      NaN       NaN  \n",
       "\n",
       "[5 rows x 159 columns]"
      ]
     },
     "execution_count": 155,
     "metadata": {},
     "output_type": "execute_result"
    }
   ],
   "source": [
    "unicef.head()"
   ]
  },
  {
   "cell_type": "markdown",
   "metadata": {
    "colab_type": "text",
    "id": "95dmhuEsNBWq"
   },
   "source": [
    " **1.)** Drop the unnamed column"
   ]
  },
  {
   "cell_type": "code",
   "execution_count": null,
   "metadata": {
    "colab": {},
    "colab_type": "code",
    "id": "DATZrykQNBWq"
   },
   "outputs": [],
   "source": [
    "unicef = unicef.drop('Unnamed: 0', axis=1)"
   ]
  },
  {
   "cell_type": "markdown",
   "metadata": {
    "colab_type": "text",
    "id": "QBhiaXM5NBWs"
   },
   "source": [
    "**2.)** Use the data in `header_df` to replace the `Name` with it's `Label` in the original dataframe."
   ]
  },
  {
   "cell_type": "code",
   "execution_count": 161,
   "metadata": {
    "colab": {},
    "colab_type": "code",
    "id": "8Tjz1iaaNBWt"
   },
   "outputs": [],
   "source": [
    "unicef_header = pd.read_csv(\"/Users/joycechung/Downloads/mn_headers.csv\")"
   ]
  },
  {
   "cell_type": "code",
   "execution_count": 162,
   "metadata": {
    "colab": {},
    "colab_type": "code",
    "id": "W4C4DWOkNBWv",
    "outputId": "e2519df9-a796-4237-bd19-ed37cc6709ab"
   },
   "outputs": [
    {
     "data": {
      "text/html": [
       "<div>\n",
       "<style scoped>\n",
       "    .dataframe tbody tr th:only-of-type {\n",
       "        vertical-align: middle;\n",
       "    }\n",
       "\n",
       "    .dataframe tbody tr th {\n",
       "        vertical-align: top;\n",
       "    }\n",
       "\n",
       "    .dataframe thead th {\n",
       "        text-align: right;\n",
       "    }\n",
       "</style>\n",
       "<table border=\"1\" class=\"dataframe\">\n",
       "  <thead>\n",
       "    <tr style=\"text-align: right;\">\n",
       "      <th></th>\n",
       "      <th>Name</th>\n",
       "      <th>Label</th>\n",
       "      <th>Question</th>\n",
       "    </tr>\n",
       "  </thead>\n",
       "  <tbody>\n",
       "    <tr>\n",
       "      <th>0</th>\n",
       "      <td>HH1</td>\n",
       "      <td>Cluster number</td>\n",
       "      <td>NaN</td>\n",
       "    </tr>\n",
       "    <tr>\n",
       "      <th>1</th>\n",
       "      <td>HH2</td>\n",
       "      <td>Household number</td>\n",
       "      <td>NaN</td>\n",
       "    </tr>\n",
       "    <tr>\n",
       "      <th>2</th>\n",
       "      <td>LN</td>\n",
       "      <td>Line number</td>\n",
       "      <td>NaN</td>\n",
       "    </tr>\n",
       "    <tr>\n",
       "      <th>3</th>\n",
       "      <td>MWM1</td>\n",
       "      <td>Cluster number</td>\n",
       "      <td>NaN</td>\n",
       "    </tr>\n",
       "    <tr>\n",
       "      <th>4</th>\n",
       "      <td>MWM2</td>\n",
       "      <td>Household number</td>\n",
       "      <td>NaN</td>\n",
       "    </tr>\n",
       "  </tbody>\n",
       "</table>\n",
       "</div>"
      ],
      "text/plain": [
       "   Name             Label Question\n",
       "0   HH1    Cluster number      NaN\n",
       "1   HH2  Household number      NaN\n",
       "2    LN       Line number      NaN\n",
       "3  MWM1    Cluster number      NaN\n",
       "4  MWM2  Household number      NaN"
      ]
     },
     "execution_count": 162,
     "metadata": {},
     "output_type": "execute_result"
    }
   ],
   "source": [
    "unicef_header.head()"
   ]
  },
  {
   "cell_type": "code",
   "execution_count": 166,
   "metadata": {
    "colab": {},
    "colab_type": "code",
    "id": "qor46n8QNBWy",
    "outputId": "bf3b2f7a-420c-449a-ab98-9672d55756f8"
   },
   "outputs": [],
   "source": [
    "mapping_dict = dict(unicef_header[['Name', 'Label']].values)\n",
    "unicef.rename(columns=mapping_dict, inplace=True)"
   ]
  },
  {
   "cell_type": "code",
   "execution_count": 167,
   "metadata": {
    "collapsed": true,
    "jupyter": {
     "outputs_hidden": true
    }
   },
   "outputs": [
    {
     "data": {
      "text/html": [
       "<div>\n",
       "<style scoped>\n",
       "    .dataframe tbody tr th:only-of-type {\n",
       "        vertical-align: middle;\n",
       "    }\n",
       "\n",
       "    .dataframe tbody tr th {\n",
       "        vertical-align: top;\n",
       "    }\n",
       "\n",
       "    .dataframe thead th {\n",
       "        text-align: right;\n",
       "    }\n",
       "</style>\n",
       "<table border=\"1\" class=\"dataframe\">\n",
       "  <thead>\n",
       "    <tr style=\"text-align: right;\">\n",
       "      <th></th>\n",
       "      <th>Cluster number</th>\n",
       "      <th>Household number</th>\n",
       "      <th>Line number</th>\n",
       "      <th>Cluster number</th>\n",
       "      <th>Household number</th>\n",
       "      <th>Man's line number</th>\n",
       "      <th>Interviewer number</th>\n",
       "      <th>Day of interview</th>\n",
       "      <th>Month of interview</th>\n",
       "      <th>Year of interview</th>\n",
       "      <th>...</th>\n",
       "      <th>Children surviving</th>\n",
       "      <th>Children dead</th>\n",
       "      <th>mwelevel</th>\n",
       "      <th>mnweight</th>\n",
       "      <th>Wealth index score</th>\n",
       "      <th>Wealth index quintiles</th>\n",
       "      <th>wscoreu</th>\n",
       "      <th>windex5u</th>\n",
       "      <th>wscorer</th>\n",
       "      <th>windex5r</th>\n",
       "    </tr>\n",
       "  </thead>\n",
       "  <tbody>\n",
       "    <tr>\n",
       "      <th>0</th>\n",
       "      <td>1</td>\n",
       "      <td>17</td>\n",
       "      <td>1</td>\n",
       "      <td>1</td>\n",
       "      <td>17</td>\n",
       "      <td>1</td>\n",
       "      <td>14</td>\n",
       "      <td>7</td>\n",
       "      <td>4</td>\n",
       "      <td>2014</td>\n",
       "      <td>...</td>\n",
       "      <td>0.0</td>\n",
       "      <td>0.0</td>\n",
       "      <td>Higher</td>\n",
       "      <td>0.403797</td>\n",
       "      <td>1.603670</td>\n",
       "      <td>5</td>\n",
       "      <td>1.272552</td>\n",
       "      <td>5.0</td>\n",
       "      <td>NaN</td>\n",
       "      <td>NaN</td>\n",
       "    </tr>\n",
       "    <tr>\n",
       "      <th>1</th>\n",
       "      <td>1</td>\n",
       "      <td>20</td>\n",
       "      <td>1</td>\n",
       "      <td>1</td>\n",
       "      <td>20</td>\n",
       "      <td>1</td>\n",
       "      <td>14</td>\n",
       "      <td>7</td>\n",
       "      <td>4</td>\n",
       "      <td>2014</td>\n",
       "      <td>...</td>\n",
       "      <td>0.0</td>\n",
       "      <td>0.0</td>\n",
       "      <td>Higher</td>\n",
       "      <td>0.403797</td>\n",
       "      <td>1.543277</td>\n",
       "      <td>5</td>\n",
       "      <td>1.089026</td>\n",
       "      <td>5.0</td>\n",
       "      <td>NaN</td>\n",
       "      <td>NaN</td>\n",
       "    </tr>\n",
       "    <tr>\n",
       "      <th>2</th>\n",
       "      <td>2</td>\n",
       "      <td>1</td>\n",
       "      <td>1</td>\n",
       "      <td>2</td>\n",
       "      <td>1</td>\n",
       "      <td>1</td>\n",
       "      <td>9</td>\n",
       "      <td>8</td>\n",
       "      <td>4</td>\n",
       "      <td>2014</td>\n",
       "      <td>...</td>\n",
       "      <td>3.0</td>\n",
       "      <td>0.0</td>\n",
       "      <td>Primary</td>\n",
       "      <td>1.031926</td>\n",
       "      <td>0.878635</td>\n",
       "      <td>4</td>\n",
       "      <td>-0.930721</td>\n",
       "      <td>1.0</td>\n",
       "      <td>NaN</td>\n",
       "      <td>NaN</td>\n",
       "    </tr>\n",
       "    <tr>\n",
       "      <th>3</th>\n",
       "      <td>2</td>\n",
       "      <td>1</td>\n",
       "      <td>5</td>\n",
       "      <td>2</td>\n",
       "      <td>1</td>\n",
       "      <td>5</td>\n",
       "      <td>9</td>\n",
       "      <td>12</td>\n",
       "      <td>4</td>\n",
       "      <td>2014</td>\n",
       "      <td>...</td>\n",
       "      <td>NaN</td>\n",
       "      <td>NaN</td>\n",
       "      <td>NaN</td>\n",
       "      <td>0.000000</td>\n",
       "      <td>0.000000</td>\n",
       "      <td>0</td>\n",
       "      <td>0.000000</td>\n",
       "      <td>0.0</td>\n",
       "      <td>0.0</td>\n",
       "      <td>0.0</td>\n",
       "    </tr>\n",
       "    <tr>\n",
       "      <th>4</th>\n",
       "      <td>2</td>\n",
       "      <td>1</td>\n",
       "      <td>8</td>\n",
       "      <td>2</td>\n",
       "      <td>1</td>\n",
       "      <td>8</td>\n",
       "      <td>9</td>\n",
       "      <td>8</td>\n",
       "      <td>4</td>\n",
       "      <td>2014</td>\n",
       "      <td>...</td>\n",
       "      <td>0.0</td>\n",
       "      <td>0.0</td>\n",
       "      <td>Secondary</td>\n",
       "      <td>1.031926</td>\n",
       "      <td>0.878635</td>\n",
       "      <td>4</td>\n",
       "      <td>-0.930721</td>\n",
       "      <td>1.0</td>\n",
       "      <td>NaN</td>\n",
       "      <td>NaN</td>\n",
       "    </tr>\n",
       "    <tr>\n",
       "      <th>...</th>\n",
       "      <td>...</td>\n",
       "      <td>...</td>\n",
       "      <td>...</td>\n",
       "      <td>...</td>\n",
       "      <td>...</td>\n",
       "      <td>...</td>\n",
       "      <td>...</td>\n",
       "      <td>...</td>\n",
       "      <td>...</td>\n",
       "      <td>...</td>\n",
       "      <td>...</td>\n",
       "      <td>...</td>\n",
       "      <td>...</td>\n",
       "      <td>...</td>\n",
       "      <td>...</td>\n",
       "      <td>...</td>\n",
       "      <td>...</td>\n",
       "      <td>...</td>\n",
       "      <td>...</td>\n",
       "      <td>...</td>\n",
       "      <td>...</td>\n",
       "    </tr>\n",
       "    <tr>\n",
       "      <th>9003</th>\n",
       "      <td>682</td>\n",
       "      <td>20</td>\n",
       "      <td>2</td>\n",
       "      <td>682</td>\n",
       "      <td>20</td>\n",
       "      <td>2</td>\n",
       "      <td>913</td>\n",
       "      <td>11</td>\n",
       "      <td>3</td>\n",
       "      <td>2014</td>\n",
       "      <td>...</td>\n",
       "      <td>0.0</td>\n",
       "      <td>0.0</td>\n",
       "      <td>Secondary</td>\n",
       "      <td>0.817528</td>\n",
       "      <td>0.641895</td>\n",
       "      <td>4</td>\n",
       "      <td>-1.650138</td>\n",
       "      <td>1.0</td>\n",
       "      <td>NaN</td>\n",
       "      <td>NaN</td>\n",
       "    </tr>\n",
       "    <tr>\n",
       "      <th>9004</th>\n",
       "      <td>682</td>\n",
       "      <td>20</td>\n",
       "      <td>3</td>\n",
       "      <td>682</td>\n",
       "      <td>20</td>\n",
       "      <td>3</td>\n",
       "      <td>918</td>\n",
       "      <td>10</td>\n",
       "      <td>3</td>\n",
       "      <td>2014</td>\n",
       "      <td>...</td>\n",
       "      <td>0.0</td>\n",
       "      <td>0.0</td>\n",
       "      <td>Secondary</td>\n",
       "      <td>0.817528</td>\n",
       "      <td>0.641895</td>\n",
       "      <td>4</td>\n",
       "      <td>-1.650138</td>\n",
       "      <td>1.0</td>\n",
       "      <td>NaN</td>\n",
       "      <td>NaN</td>\n",
       "    </tr>\n",
       "    <tr>\n",
       "      <th>9005</th>\n",
       "      <td>682</td>\n",
       "      <td>21</td>\n",
       "      <td>2</td>\n",
       "      <td>682</td>\n",
       "      <td>21</td>\n",
       "      <td>2</td>\n",
       "      <td>913</td>\n",
       "      <td>13</td>\n",
       "      <td>3</td>\n",
       "      <td>2014</td>\n",
       "      <td>...</td>\n",
       "      <td>0.0</td>\n",
       "      <td>0.0</td>\n",
       "      <td>Secondary</td>\n",
       "      <td>0.817528</td>\n",
       "      <td>0.712168</td>\n",
       "      <td>4</td>\n",
       "      <td>-1.436591</td>\n",
       "      <td>1.0</td>\n",
       "      <td>NaN</td>\n",
       "      <td>NaN</td>\n",
       "    </tr>\n",
       "    <tr>\n",
       "      <th>9006</th>\n",
       "      <td>682</td>\n",
       "      <td>23</td>\n",
       "      <td>1</td>\n",
       "      <td>682</td>\n",
       "      <td>23</td>\n",
       "      <td>1</td>\n",
       "      <td>913</td>\n",
       "      <td>9</td>\n",
       "      <td>3</td>\n",
       "      <td>2014</td>\n",
       "      <td>...</td>\n",
       "      <td>0.0</td>\n",
       "      <td>0.0</td>\n",
       "      <td>Secondary</td>\n",
       "      <td>0.817528</td>\n",
       "      <td>0.847591</td>\n",
       "      <td>4</td>\n",
       "      <td>-1.025058</td>\n",
       "      <td>1.0</td>\n",
       "      <td>NaN</td>\n",
       "      <td>NaN</td>\n",
       "    </tr>\n",
       "    <tr>\n",
       "      <th>9007</th>\n",
       "      <td>682</td>\n",
       "      <td>24</td>\n",
       "      <td>1</td>\n",
       "      <td>682</td>\n",
       "      <td>24</td>\n",
       "      <td>1</td>\n",
       "      <td>913</td>\n",
       "      <td>16</td>\n",
       "      <td>3</td>\n",
       "      <td>2014</td>\n",
       "      <td>...</td>\n",
       "      <td>NaN</td>\n",
       "      <td>NaN</td>\n",
       "      <td>NaN</td>\n",
       "      <td>0.000000</td>\n",
       "      <td>0.000000</td>\n",
       "      <td>0</td>\n",
       "      <td>0.000000</td>\n",
       "      <td>0.0</td>\n",
       "      <td>0.0</td>\n",
       "      <td>0.0</td>\n",
       "    </tr>\n",
       "  </tbody>\n",
       "</table>\n",
       "<p>9008 rows × 158 columns</p>\n",
       "</div>"
      ],
      "text/plain": [
       "      Cluster number  Household number  Line number  Cluster number  \\\n",
       "0                  1                17            1               1   \n",
       "1                  1                20            1               1   \n",
       "2                  2                 1            1               2   \n",
       "3                  2                 1            5               2   \n",
       "4                  2                 1            8               2   \n",
       "...              ...               ...          ...             ...   \n",
       "9003             682                20            2             682   \n",
       "9004             682                20            3             682   \n",
       "9005             682                21            2             682   \n",
       "9006             682                23            1             682   \n",
       "9007             682                24            1             682   \n",
       "\n",
       "      Household number  Man's line number  Interviewer number  \\\n",
       "0                   17                  1                  14   \n",
       "1                   20                  1                  14   \n",
       "2                    1                  1                   9   \n",
       "3                    1                  5                   9   \n",
       "4                    1                  8                   9   \n",
       "...                ...                ...                 ...   \n",
       "9003                20                  2                 913   \n",
       "9004                20                  3                 918   \n",
       "9005                21                  2                 913   \n",
       "9006                23                  1                 913   \n",
       "9007                24                  1                 913   \n",
       "\n",
       "      Day of interview  Month of interview  Year of interview  ...  \\\n",
       "0                    7                   4               2014  ...   \n",
       "1                    7                   4               2014  ...   \n",
       "2                    8                   4               2014  ...   \n",
       "3                   12                   4               2014  ...   \n",
       "4                    8                   4               2014  ...   \n",
       "...                ...                 ...                ...  ...   \n",
       "9003                11                   3               2014  ...   \n",
       "9004                10                   3               2014  ...   \n",
       "9005                13                   3               2014  ...   \n",
       "9006                 9                   3               2014  ...   \n",
       "9007                16                   3               2014  ...   \n",
       "\n",
       "     Children surviving  Children dead   mwelevel  mnweight  \\\n",
       "0                   0.0            0.0     Higher  0.403797   \n",
       "1                   0.0            0.0     Higher  0.403797   \n",
       "2                   3.0            0.0    Primary  1.031926   \n",
       "3                   NaN            NaN        NaN  0.000000   \n",
       "4                   0.0            0.0  Secondary  1.031926   \n",
       "...                 ...            ...        ...       ...   \n",
       "9003                0.0            0.0  Secondary  0.817528   \n",
       "9004                0.0            0.0  Secondary  0.817528   \n",
       "9005                0.0            0.0  Secondary  0.817528   \n",
       "9006                0.0            0.0  Secondary  0.817528   \n",
       "9007                NaN            NaN        NaN  0.000000   \n",
       "\n",
       "      Wealth index score  Wealth index quintiles   wscoreu  windex5u  wscorer  \\\n",
       "0               1.603670                       5  1.272552       5.0      NaN   \n",
       "1               1.543277                       5  1.089026       5.0      NaN   \n",
       "2               0.878635                       4 -0.930721       1.0      NaN   \n",
       "3               0.000000                       0  0.000000       0.0      0.0   \n",
       "4               0.878635                       4 -0.930721       1.0      NaN   \n",
       "...                  ...                     ...       ...       ...      ...   \n",
       "9003            0.641895                       4 -1.650138       1.0      NaN   \n",
       "9004            0.641895                       4 -1.650138       1.0      NaN   \n",
       "9005            0.712168                       4 -1.436591       1.0      NaN   \n",
       "9006            0.847591                       4 -1.025058       1.0      NaN   \n",
       "9007            0.000000                       0  0.000000       0.0      0.0   \n",
       "\n",
       "      windex5r  \n",
       "0          NaN  \n",
       "1          NaN  \n",
       "2          NaN  \n",
       "3          0.0  \n",
       "4          NaN  \n",
       "...        ...  \n",
       "9003       NaN  \n",
       "9004       NaN  \n",
       "9005       NaN  \n",
       "9006       NaN  \n",
       "9007       0.0  \n",
       "\n",
       "[9008 rows x 158 columns]"
      ]
     },
     "execution_count": 167,
     "metadata": {},
     "output_type": "execute_result"
    }
   ],
   "source": [
    "unicef"
   ]
  },
  {
   "cell_type": "markdown",
   "metadata": {
    "colab_type": "text",
    "id": "HhklbSuuNBW0"
   },
   "source": [
    "# Ricacorp\n",
    "\n",
    "**1.)** Reading in the file. *Hint*  What type of format is it? Also, you'll need to change the encoding to 'utf-16'"
   ]
  },
  {
   "cell_type": "code",
   "execution_count": 244,
   "metadata": {
    "colab": {},
    "colab_type": "code",
    "id": "qZRw6FtpNBW1"
   },
   "outputs": [],
   "source": [
    "import pandas as pd"
   ]
  },
  {
   "cell_type": "code",
   "execution_count": 245,
   "metadata": {
    "colab": {},
    "colab_type": "code",
    "id": "qZRw6FtpNBW1"
   },
   "outputs": [
    {
     "name": "stdout",
     "output_type": "stream",
     "text": [
      "Requirement already satisfied: chardet in /Users/joycechung/PycharmProjects/pythonProject/MyFirstProject/FirstVenv/lib/python3.10/site-packages (5.2.0)\n",
      "Note: you may need to restart the kernel to use updated packages.\n"
     ]
    }
   ],
   "source": [
    "pip install chardet"
   ]
  },
  {
   "cell_type": "code",
   "execution_count": 246,
   "metadata": {},
   "outputs": [],
   "source": [
    "import chardet \n",
    "\n",
    "with open('/Users/joycechung/Downloads/APIs/data/ricacorp-real-estate-sales.tsv', 'rb') as f:\n",
    "\n",
    "    result = chardet.detect(f.read())\n",
    "\n",
    "    df = pd.read_csv('/Users/joycechung/Downloads/APIs/data/ricacorp-real-estate-sales.tsv', encoding=result['encoding'], sep='\\t')\n",
    "    # Use '\\t' as the separator for tab-separated values (.tsv)"
   ]
  },
  {
   "cell_type": "code",
   "execution_count": 247,
   "metadata": {},
   "outputs": [
    {
     "data": {
      "text/html": [
       "<div>\n",
       "<style scoped>\n",
       "    .dataframe tbody tr th:only-of-type {\n",
       "        vertical-align: middle;\n",
       "    }\n",
       "\n",
       "    .dataframe tbody tr th {\n",
       "        vertical-align: top;\n",
       "    }\n",
       "\n",
       "    .dataframe thead th {\n",
       "        text-align: right;\n",
       "    }\n",
       "</style>\n",
       "<table border=\"1\" class=\"dataframe\">\n",
       "  <thead>\n",
       "    <tr style=\"text-align: right;\">\n",
       "      <th></th>\n",
       "      <th>Area</th>\n",
       "      <th>web-scraper-order</th>\n",
       "      <th>web-scraper-start-url</th>\n",
       "      <th>pagination</th>\n",
       "      <th>pagination-href</th>\n",
       "      <th>characteristic</th>\n",
       "      <th>floor type</th>\n",
       "      <th>hkd millions</th>\n",
       "      <th>rent hkd</th>\n",
       "      <th>area</th>\n",
       "      <th>address</th>\n",
       "      <th>last updated</th>\n",
       "      <th>pay per month</th>\n",
       "      <th>loan %</th>\n",
       "      <th>1st payment</th>\n",
       "    </tr>\n",
       "  </thead>\n",
       "  <tbody>\n",
       "    <tr>\n",
       "      <th>0</th>\n",
       "      <td>Kowloon</td>\n",
       "      <td>1521007907-3932</td>\n",
       "      <td>http://www.ricacorp.com/rcproperty/search/d~s~...</td>\n",
       "      <td>Next</td>\n",
       "      <td>http://www.ricacorp.com/rcproperty/search/d~s~...</td>\n",
       "      <td>Quiet &amp; Boutique Living, Unrivalled Luxury</td>\n",
       "      <td>High Floor Zone (Flat 3)</td>\n",
       "      <td>26.50</td>\n",
       "      <td>NaN</td>\n",
       "      <td>Area :\\n1,137Ft ($23.3k/Ft)</td>\n",
       "      <td>Kowloon Tong/Beacon Hill Flat 3 Block A Penins...</td>\n",
       "      <td>Last Updated : 21-02-2018</td>\n",
       "      <td>Pay/M︰$70.2k</td>\n",
       "      <td>Loan%︰50%</td>\n",
       "      <td>1st Pay︰$13.25M</td>\n",
       "    </tr>\n",
       "    <tr>\n",
       "      <th>1</th>\n",
       "      <td>Kowloon</td>\n",
       "      <td>1521007147-2665</td>\n",
       "      <td>http://www.ricacorp.com/rcproperty/search/d~s~...</td>\n",
       "      <td>Next</td>\n",
       "      <td>http://www.ricacorp.com/rcproperty/search/d~s~...</td>\n",
       "      <td>Invite Offers, For Sale &amp; For Lease</td>\n",
       "      <td>High Floor Zone (Flat -)                      ...</td>\n",
       "      <td>7.50</td>\n",
       "      <td>Rent $17k\\n                                   ...</td>\n",
       "      <td>Area :\\n485Ft ($15.4k/Ft)</td>\n",
       "      <td>Cheung Sha Wan West Flat - Tower 1 Phase 2 The...</td>\n",
       "      <td>Last Updated : 23-02-2018</td>\n",
       "      <td>Pay/M︰$23.8k</td>\n",
       "      <td>Loan%︰60%</td>\n",
       "      <td>1st Pay︰$3M</td>\n",
       "    </tr>\n",
       "    <tr>\n",
       "      <th>2</th>\n",
       "      <td>Kowloon</td>\n",
       "      <td>1521006995-2269</td>\n",
       "      <td>http://www.ricacorp.com/rcproperty/search/d~s~...</td>\n",
       "      <td>Next</td>\n",
       "      <td>http://www.ricacorp.com/rcproperty/search/d~s~...</td>\n",
       "      <td>Spacious Rooms, High Privacy</td>\n",
       "      <td>Low Floor Zone (Flat E)                       ...</td>\n",
       "      <td>18.00</td>\n",
       "      <td>Rent $40k\\n                                   ...</td>\n",
       "      <td>Area :\\n794Ft ($22.6k/Ft)</td>\n",
       "      <td>Kowloon Station Flat E Tower 2 Phase 1 The Wat...</td>\n",
       "      <td>Last Updated : 13-03-2018</td>\n",
       "      <td>Pay/M︰$47.6k</td>\n",
       "      <td>Loan%︰50%</td>\n",
       "      <td>1st Pay︰$9M</td>\n",
       "    </tr>\n",
       "    <tr>\n",
       "      <th>3</th>\n",
       "      <td>Kowloon</td>\n",
       "      <td>1521008121-4522</td>\n",
       "      <td>http://www.ricacorp.com/rcproperty/search/d~s~...</td>\n",
       "      <td>Next</td>\n",
       "      <td>http://www.ricacorp.com/rcproperty/search/d~s~...</td>\n",
       "      <td>Good Layout &amp; Efficient, Unrepeatable Opportunity</td>\n",
       "      <td>Low Floor Zone (Flat -)                       ...</td>\n",
       "      <td>13.98</td>\n",
       "      <td>NaN</td>\n",
       "      <td>Area :\\n971Ft ($14.3k/Ft)</td>\n",
       "      <td>Cheung Sha Wan West Flat - Tower 2 One West Ko...</td>\n",
       "      <td>Last Updated : 22-02-2018</td>\n",
       "      <td>Pay/M︰$37k</td>\n",
       "      <td>Loan%︰50%</td>\n",
       "      <td>1st Pay︰$6.99M</td>\n",
       "    </tr>\n",
       "    <tr>\n",
       "      <th>4</th>\n",
       "      <td>Kowloon</td>\n",
       "      <td>1521006897-2016</td>\n",
       "      <td>http://www.ricacorp.com/rcproperty/search/d~s~...</td>\n",
       "      <td>Next</td>\n",
       "      <td>http://www.ricacorp.com/rcproperty/search/d~s~...</td>\n",
       "      <td>Spacious Rooms, Tranquil Garden View</td>\n",
       "      <td>Low Floor Zone (Flat AB)                      ...</td>\n",
       "      <td>25.00</td>\n",
       "      <td>NaN</td>\n",
       "      <td>Area :\\n1,502Ft ($16.6k/Ft)</td>\n",
       "      <td>Whampoa/Laguna Verde Flat AB Tower 10 Phase 2 ...</td>\n",
       "      <td>Last Updated : 13-03-2018</td>\n",
       "      <td>Pay/M︰$66.2k</td>\n",
       "      <td>Loan%︰50%</td>\n",
       "      <td>1st Pay︰$12.5M</td>\n",
       "    </tr>\n",
       "    <tr>\n",
       "      <th>...</th>\n",
       "      <td>...</td>\n",
       "      <td>...</td>\n",
       "      <td>...</td>\n",
       "      <td>...</td>\n",
       "      <td>...</td>\n",
       "      <td>...</td>\n",
       "      <td>...</td>\n",
       "      <td>...</td>\n",
       "      <td>...</td>\n",
       "      <td>...</td>\n",
       "      <td>...</td>\n",
       "      <td>...</td>\n",
       "      <td>...</td>\n",
       "      <td>...</td>\n",
       "      <td>...</td>\n",
       "    </tr>\n",
       "    <tr>\n",
       "      <th>10004</th>\n",
       "      <td>New Territories West</td>\n",
       "      <td>1521010950-9040</td>\n",
       "      <td>http://www.ricacorp.com/rcproperty/search/d~s~...</td>\n",
       "      <td>Next</td>\n",
       "      <td>http://www.ricacorp.com/rcproperty/search/d~s~...</td>\n",
       "      <td>Famous Property, Greenery Mountain View</td>\n",
       "      <td>Medium Floor Zone (Flat C)                    ...</td>\n",
       "      <td>4.20</td>\n",
       "      <td>Rent $11k\\n                                   ...</td>\n",
       "      <td>Area :\\n329Ft ($12.7k/Ft)</td>\n",
       "      <td>Tsing Yi Flat C Block 5 Mayfair Gardens  Mediu...</td>\n",
       "      <td>Last Updated : 28-02-2018</td>\n",
       "      <td>Pay/M︰$15.5k</td>\n",
       "      <td>Loan%︰70%</td>\n",
       "      <td>1st Pay︰$1.26M</td>\n",
       "    </tr>\n",
       "    <tr>\n",
       "      <th>10005</th>\n",
       "      <td>New Territories West</td>\n",
       "      <td>1521012251-10812</td>\n",
       "      <td>http://www.ricacorp.com/rcproperty/search/d~s~...</td>\n",
       "      <td>Next</td>\n",
       "      <td>http://www.ricacorp.com/rcproperty/search/d~s~...</td>\n",
       "      <td>Nice Decoration, Good Layout &amp; Efficient</td>\n",
       "      <td>Low Floor Zone (Flat B)                       ...</td>\n",
       "      <td>7.60</td>\n",
       "      <td>NaN</td>\n",
       "      <td>Area :\\n696Ft ($10.9k/Ft)</td>\n",
       "      <td>Yuen Long Flat B Helorus Boulevard Tower 6B Ri...</td>\n",
       "      <td>Last Updated : 01-03-2018</td>\n",
       "      <td>Pay/M︰$24.1k</td>\n",
       "      <td>Loan%︰60%</td>\n",
       "      <td>1st Pay︰$3.04M</td>\n",
       "    </tr>\n",
       "    <tr>\n",
       "      <th>10006</th>\n",
       "      <td>New Territories West</td>\n",
       "      <td>1521011449-9805</td>\n",
       "      <td>http://www.ricacorp.com/rcproperty/search/d~s~...</td>\n",
       "      <td>Next</td>\n",
       "      <td>http://www.ricacorp.com/rcproperty/search/d~s~...</td>\n",
       "      <td>Prestige Location, Invite Offers</td>\n",
       "      <td>High Floor Zone (Flat A)                      ...</td>\n",
       "      <td>6.40</td>\n",
       "      <td>Rent $15k\\n                                   ...</td>\n",
       "      <td>Area :\\n443Ft ($14.4k/Ft)</td>\n",
       "      <td>Yuen Long Flat A Block M2 Phase 2 Yoho Midtown...</td>\n",
       "      <td>Last Updated : 07-03-2018</td>\n",
       "      <td>Pay/M︰$22.2k</td>\n",
       "      <td>Loan%︰65%</td>\n",
       "      <td>1st Pay︰$2.2M</td>\n",
       "    </tr>\n",
       "    <tr>\n",
       "      <th>10007</th>\n",
       "      <td>New Territories West</td>\n",
       "      <td>1521012542-11661</td>\n",
       "      <td>http://www.ricacorp.com/rcproperty/search/d~s~...</td>\n",
       "      <td>Next</td>\n",
       "      <td>http://www.ricacorp.com/rcproperty/search/r~s~...</td>\n",
       "      <td>Rare Offer, Quiet &amp; Boutique Living</td>\n",
       "      <td>High Floor Zone (Flat 1)                      ...</td>\n",
       "      <td>16.50</td>\n",
       "      <td>NaN</td>\n",
       "      <td>Area :\\n826Ft ($19.9k/Ft)</td>\n",
       "      <td>Heng Fa Chuen Flat 1 Block 49 Heng Fa Chuen  H...</td>\n",
       "      <td>Last Updated : 13-03-2018</td>\n",
       "      <td>Pay/M︰$43.7k</td>\n",
       "      <td>Loan%︰50%</td>\n",
       "      <td>1st Pay︰$8.25M</td>\n",
       "    </tr>\n",
       "    <tr>\n",
       "      <th>10008</th>\n",
       "      <td>New Territories West</td>\n",
       "      <td>1521010933-8994</td>\n",
       "      <td>http://www.ricacorp.com/rcproperty/search/d~s~...</td>\n",
       "      <td>Next</td>\n",
       "      <td>http://www.ricacorp.com/rcproperty/search/d~s~...</td>\n",
       "      <td>NaN</td>\n",
       "      <td>High Floor Zone (Flat F)                      ...</td>\n",
       "      <td>9.80</td>\n",
       "      <td>Rent $19k\\n                                   ...</td>\n",
       "      <td>Area :\\n615Ft ($15.9k/Ft)</td>\n",
       "      <td>Yuen Long Flat F Block M3 Phase 2 Yoho Midtown...</td>\n",
       "      <td>Last Updated : 06-03-2018</td>\n",
       "      <td>Pay/M︰$26.4k</td>\n",
       "      <td>Loan%︰51%</td>\n",
       "      <td>1st Pay︰$4.8M</td>\n",
       "    </tr>\n",
       "  </tbody>\n",
       "</table>\n",
       "<p>10009 rows × 15 columns</p>\n",
       "</div>"
      ],
      "text/plain": [
       "                       Area web-scraper-order  \\\n",
       "0                   Kowloon   1521007907-3932   \n",
       "1                   Kowloon   1521007147-2665   \n",
       "2                   Kowloon   1521006995-2269   \n",
       "3                   Kowloon   1521008121-4522   \n",
       "4                   Kowloon   1521006897-2016   \n",
       "...                     ...               ...   \n",
       "10004  New Territories West   1521010950-9040   \n",
       "10005  New Territories West  1521012251-10812   \n",
       "10006  New Territories West   1521011449-9805   \n",
       "10007  New Territories West  1521012542-11661   \n",
       "10008  New Territories West   1521010933-8994   \n",
       "\n",
       "                                   web-scraper-start-url pagination  \\\n",
       "0      http://www.ricacorp.com/rcproperty/search/d~s~...       Next   \n",
       "1      http://www.ricacorp.com/rcproperty/search/d~s~...       Next   \n",
       "2      http://www.ricacorp.com/rcproperty/search/d~s~...       Next   \n",
       "3      http://www.ricacorp.com/rcproperty/search/d~s~...       Next   \n",
       "4      http://www.ricacorp.com/rcproperty/search/d~s~...       Next   \n",
       "...                                                  ...        ...   \n",
       "10004  http://www.ricacorp.com/rcproperty/search/d~s~...       Next   \n",
       "10005  http://www.ricacorp.com/rcproperty/search/d~s~...       Next   \n",
       "10006  http://www.ricacorp.com/rcproperty/search/d~s~...       Next   \n",
       "10007  http://www.ricacorp.com/rcproperty/search/d~s~...       Next   \n",
       "10008  http://www.ricacorp.com/rcproperty/search/d~s~...       Next   \n",
       "\n",
       "                                         pagination-href  \\\n",
       "0      http://www.ricacorp.com/rcproperty/search/d~s~...   \n",
       "1      http://www.ricacorp.com/rcproperty/search/d~s~...   \n",
       "2      http://www.ricacorp.com/rcproperty/search/d~s~...   \n",
       "3      http://www.ricacorp.com/rcproperty/search/d~s~...   \n",
       "4      http://www.ricacorp.com/rcproperty/search/d~s~...   \n",
       "...                                                  ...   \n",
       "10004  http://www.ricacorp.com/rcproperty/search/d~s~...   \n",
       "10005  http://www.ricacorp.com/rcproperty/search/d~s~...   \n",
       "10006  http://www.ricacorp.com/rcproperty/search/d~s~...   \n",
       "10007  http://www.ricacorp.com/rcproperty/search/r~s~...   \n",
       "10008  http://www.ricacorp.com/rcproperty/search/d~s~...   \n",
       "\n",
       "                                          characteristic  \\\n",
       "0             Quiet & Boutique Living, Unrivalled Luxury   \n",
       "1                    Invite Offers, For Sale & For Lease   \n",
       "2                           Spacious Rooms, High Privacy   \n",
       "3      Good Layout & Efficient, Unrepeatable Opportunity   \n",
       "4                   Spacious Rooms, Tranquil Garden View   \n",
       "...                                                  ...   \n",
       "10004            Famous Property, Greenery Mountain View   \n",
       "10005           Nice Decoration, Good Layout & Efficient   \n",
       "10006                   Prestige Location, Invite Offers   \n",
       "10007                Rare Offer, Quiet & Boutique Living   \n",
       "10008                                                NaN   \n",
       "\n",
       "                                              floor type  hkd millions  \\\n",
       "0                               High Floor Zone (Flat 3)         26.50   \n",
       "1      High Floor Zone (Flat -)                      ...          7.50   \n",
       "2      Low Floor Zone (Flat E)                       ...         18.00   \n",
       "3      Low Floor Zone (Flat -)                       ...         13.98   \n",
       "4      Low Floor Zone (Flat AB)                      ...         25.00   \n",
       "...                                                  ...           ...   \n",
       "10004  Medium Floor Zone (Flat C)                    ...          4.20   \n",
       "10005  Low Floor Zone (Flat B)                       ...          7.60   \n",
       "10006  High Floor Zone (Flat A)                      ...          6.40   \n",
       "10007  High Floor Zone (Flat 1)                      ...         16.50   \n",
       "10008  High Floor Zone (Flat F)                      ...          9.80   \n",
       "\n",
       "                                                rent hkd  \\\n",
       "0                                                    NaN   \n",
       "1      Rent $17k\\n                                   ...   \n",
       "2      Rent $40k\\n                                   ...   \n",
       "3                                                    NaN   \n",
       "4                                                    NaN   \n",
       "...                                                  ...   \n",
       "10004  Rent $11k\\n                                   ...   \n",
       "10005                                                NaN   \n",
       "10006  Rent $15k\\n                                   ...   \n",
       "10007                                                NaN   \n",
       "10008  Rent $19k\\n                                   ...   \n",
       "\n",
       "                              area  \\\n",
       "0      Area :\\n1,137Ft ($23.3k/Ft)   \n",
       "1        Area :\\n485Ft ($15.4k/Ft)   \n",
       "2        Area :\\n794Ft ($22.6k/Ft)   \n",
       "3        Area :\\n971Ft ($14.3k/Ft)   \n",
       "4      Area :\\n1,502Ft ($16.6k/Ft)   \n",
       "...                            ...   \n",
       "10004    Area :\\n329Ft ($12.7k/Ft)   \n",
       "10005    Area :\\n696Ft ($10.9k/Ft)   \n",
       "10006    Area :\\n443Ft ($14.4k/Ft)   \n",
       "10007    Area :\\n826Ft ($19.9k/Ft)   \n",
       "10008    Area :\\n615Ft ($15.9k/Ft)   \n",
       "\n",
       "                                                 address  \\\n",
       "0      Kowloon Tong/Beacon Hill Flat 3 Block A Penins...   \n",
       "1      Cheung Sha Wan West Flat - Tower 1 Phase 2 The...   \n",
       "2      Kowloon Station Flat E Tower 2 Phase 1 The Wat...   \n",
       "3      Cheung Sha Wan West Flat - Tower 2 One West Ko...   \n",
       "4      Whampoa/Laguna Verde Flat AB Tower 10 Phase 2 ...   \n",
       "...                                                  ...   \n",
       "10004  Tsing Yi Flat C Block 5 Mayfair Gardens  Mediu...   \n",
       "10005  Yuen Long Flat B Helorus Boulevard Tower 6B Ri...   \n",
       "10006  Yuen Long Flat A Block M2 Phase 2 Yoho Midtown...   \n",
       "10007  Heng Fa Chuen Flat 1 Block 49 Heng Fa Chuen  H...   \n",
       "10008  Yuen Long Flat F Block M3 Phase 2 Yoho Midtown...   \n",
       "\n",
       "                    last updated pay per month     loan %      1st payment  \n",
       "0      Last Updated : 21-02-2018  Pay/M︰$70.2k  Loan%︰50%  1st Pay︰$13.25M  \n",
       "1      Last Updated : 23-02-2018  Pay/M︰$23.8k  Loan%︰60%      1st Pay︰$3M  \n",
       "2      Last Updated : 13-03-2018  Pay/M︰$47.6k  Loan%︰50%      1st Pay︰$9M  \n",
       "3      Last Updated : 22-02-2018    Pay/M︰$37k  Loan%︰50%   1st Pay︰$6.99M  \n",
       "4      Last Updated : 13-03-2018  Pay/M︰$66.2k  Loan%︰50%   1st Pay︰$12.5M  \n",
       "...                          ...           ...        ...              ...  \n",
       "10004  Last Updated : 28-02-2018  Pay/M︰$15.5k  Loan%︰70%   1st Pay︰$1.26M  \n",
       "10005  Last Updated : 01-03-2018  Pay/M︰$24.1k  Loan%︰60%   1st Pay︰$3.04M  \n",
       "10006  Last Updated : 07-03-2018  Pay/M︰$22.2k  Loan%︰65%    1st Pay︰$2.2M  \n",
       "10007  Last Updated : 13-03-2018  Pay/M︰$43.7k  Loan%︰50%   1st Pay︰$8.25M  \n",
       "10008  Last Updated : 06-03-2018  Pay/M︰$26.4k  Loan%︰51%    1st Pay︰$4.8M  \n",
       "\n",
       "[10009 rows x 15 columns]"
      ]
     },
     "execution_count": 247,
     "metadata": {},
     "output_type": "execute_result"
    }
   ],
   "source": [
    "df"
   ]
  },
  {
   "cell_type": "markdown",
   "metadata": {
    "colab_type": "text",
    "id": "0ZXhjUrLNBW5"
   },
   "source": [
    "**2.)** Remove the useless columns like web-scraper-order, pagination etc."
   ]
  },
  {
   "cell_type": "code",
   "execution_count": 248,
   "metadata": {
    "colab": {},
    "colab_type": "code",
    "id": "6nrGe9FjNBW6"
   },
   "outputs": [],
   "source": [
    "df = df.drop(columns=['web-scraper-order', 'web-scraper-start-url', 'pagination', 'pagination-href'])"
   ]
  },
  {
   "cell_type": "code",
   "execution_count": 249,
   "metadata": {},
   "outputs": [
    {
     "data": {
      "text/html": [
       "<div>\n",
       "<style scoped>\n",
       "    .dataframe tbody tr th:only-of-type {\n",
       "        vertical-align: middle;\n",
       "    }\n",
       "\n",
       "    .dataframe tbody tr th {\n",
       "        vertical-align: top;\n",
       "    }\n",
       "\n",
       "    .dataframe thead th {\n",
       "        text-align: right;\n",
       "    }\n",
       "</style>\n",
       "<table border=\"1\" class=\"dataframe\">\n",
       "  <thead>\n",
       "    <tr style=\"text-align: right;\">\n",
       "      <th></th>\n",
       "      <th>Area</th>\n",
       "      <th>characteristic</th>\n",
       "      <th>floor type</th>\n",
       "      <th>hkd millions</th>\n",
       "      <th>rent hkd</th>\n",
       "      <th>area</th>\n",
       "      <th>address</th>\n",
       "      <th>last updated</th>\n",
       "      <th>pay per month</th>\n",
       "      <th>loan %</th>\n",
       "      <th>1st payment</th>\n",
       "    </tr>\n",
       "  </thead>\n",
       "  <tbody>\n",
       "    <tr>\n",
       "      <th>0</th>\n",
       "      <td>Kowloon</td>\n",
       "      <td>Quiet &amp; Boutique Living, Unrivalled Luxury</td>\n",
       "      <td>High Floor Zone (Flat 3)</td>\n",
       "      <td>26.50</td>\n",
       "      <td>NaN</td>\n",
       "      <td>Area :\\n1,137Ft ($23.3k/Ft)</td>\n",
       "      <td>Kowloon Tong/Beacon Hill Flat 3 Block A Penins...</td>\n",
       "      <td>Last Updated : 21-02-2018</td>\n",
       "      <td>Pay/M︰$70.2k</td>\n",
       "      <td>Loan%︰50%</td>\n",
       "      <td>1st Pay︰$13.25M</td>\n",
       "    </tr>\n",
       "    <tr>\n",
       "      <th>1</th>\n",
       "      <td>Kowloon</td>\n",
       "      <td>Invite Offers, For Sale &amp; For Lease</td>\n",
       "      <td>High Floor Zone (Flat -)                      ...</td>\n",
       "      <td>7.50</td>\n",
       "      <td>Rent $17k\\n                                   ...</td>\n",
       "      <td>Area :\\n485Ft ($15.4k/Ft)</td>\n",
       "      <td>Cheung Sha Wan West Flat - Tower 1 Phase 2 The...</td>\n",
       "      <td>Last Updated : 23-02-2018</td>\n",
       "      <td>Pay/M︰$23.8k</td>\n",
       "      <td>Loan%︰60%</td>\n",
       "      <td>1st Pay︰$3M</td>\n",
       "    </tr>\n",
       "    <tr>\n",
       "      <th>2</th>\n",
       "      <td>Kowloon</td>\n",
       "      <td>Spacious Rooms, High Privacy</td>\n",
       "      <td>Low Floor Zone (Flat E)                       ...</td>\n",
       "      <td>18.00</td>\n",
       "      <td>Rent $40k\\n                                   ...</td>\n",
       "      <td>Area :\\n794Ft ($22.6k/Ft)</td>\n",
       "      <td>Kowloon Station Flat E Tower 2 Phase 1 The Wat...</td>\n",
       "      <td>Last Updated : 13-03-2018</td>\n",
       "      <td>Pay/M︰$47.6k</td>\n",
       "      <td>Loan%︰50%</td>\n",
       "      <td>1st Pay︰$9M</td>\n",
       "    </tr>\n",
       "    <tr>\n",
       "      <th>3</th>\n",
       "      <td>Kowloon</td>\n",
       "      <td>Good Layout &amp; Efficient, Unrepeatable Opportunity</td>\n",
       "      <td>Low Floor Zone (Flat -)                       ...</td>\n",
       "      <td>13.98</td>\n",
       "      <td>NaN</td>\n",
       "      <td>Area :\\n971Ft ($14.3k/Ft)</td>\n",
       "      <td>Cheung Sha Wan West Flat - Tower 2 One West Ko...</td>\n",
       "      <td>Last Updated : 22-02-2018</td>\n",
       "      <td>Pay/M︰$37k</td>\n",
       "      <td>Loan%︰50%</td>\n",
       "      <td>1st Pay︰$6.99M</td>\n",
       "    </tr>\n",
       "    <tr>\n",
       "      <th>4</th>\n",
       "      <td>Kowloon</td>\n",
       "      <td>Spacious Rooms, Tranquil Garden View</td>\n",
       "      <td>Low Floor Zone (Flat AB)                      ...</td>\n",
       "      <td>25.00</td>\n",
       "      <td>NaN</td>\n",
       "      <td>Area :\\n1,502Ft ($16.6k/Ft)</td>\n",
       "      <td>Whampoa/Laguna Verde Flat AB Tower 10 Phase 2 ...</td>\n",
       "      <td>Last Updated : 13-03-2018</td>\n",
       "      <td>Pay/M︰$66.2k</td>\n",
       "      <td>Loan%︰50%</td>\n",
       "      <td>1st Pay︰$12.5M</td>\n",
       "    </tr>\n",
       "    <tr>\n",
       "      <th>...</th>\n",
       "      <td>...</td>\n",
       "      <td>...</td>\n",
       "      <td>...</td>\n",
       "      <td>...</td>\n",
       "      <td>...</td>\n",
       "      <td>...</td>\n",
       "      <td>...</td>\n",
       "      <td>...</td>\n",
       "      <td>...</td>\n",
       "      <td>...</td>\n",
       "      <td>...</td>\n",
       "    </tr>\n",
       "    <tr>\n",
       "      <th>10004</th>\n",
       "      <td>New Territories West</td>\n",
       "      <td>Famous Property, Greenery Mountain View</td>\n",
       "      <td>Medium Floor Zone (Flat C)                    ...</td>\n",
       "      <td>4.20</td>\n",
       "      <td>Rent $11k\\n                                   ...</td>\n",
       "      <td>Area :\\n329Ft ($12.7k/Ft)</td>\n",
       "      <td>Tsing Yi Flat C Block 5 Mayfair Gardens  Mediu...</td>\n",
       "      <td>Last Updated : 28-02-2018</td>\n",
       "      <td>Pay/M︰$15.5k</td>\n",
       "      <td>Loan%︰70%</td>\n",
       "      <td>1st Pay︰$1.26M</td>\n",
       "    </tr>\n",
       "    <tr>\n",
       "      <th>10005</th>\n",
       "      <td>New Territories West</td>\n",
       "      <td>Nice Decoration, Good Layout &amp; Efficient</td>\n",
       "      <td>Low Floor Zone (Flat B)                       ...</td>\n",
       "      <td>7.60</td>\n",
       "      <td>NaN</td>\n",
       "      <td>Area :\\n696Ft ($10.9k/Ft)</td>\n",
       "      <td>Yuen Long Flat B Helorus Boulevard Tower 6B Ri...</td>\n",
       "      <td>Last Updated : 01-03-2018</td>\n",
       "      <td>Pay/M︰$24.1k</td>\n",
       "      <td>Loan%︰60%</td>\n",
       "      <td>1st Pay︰$3.04M</td>\n",
       "    </tr>\n",
       "    <tr>\n",
       "      <th>10006</th>\n",
       "      <td>New Territories West</td>\n",
       "      <td>Prestige Location, Invite Offers</td>\n",
       "      <td>High Floor Zone (Flat A)                      ...</td>\n",
       "      <td>6.40</td>\n",
       "      <td>Rent $15k\\n                                   ...</td>\n",
       "      <td>Area :\\n443Ft ($14.4k/Ft)</td>\n",
       "      <td>Yuen Long Flat A Block M2 Phase 2 Yoho Midtown...</td>\n",
       "      <td>Last Updated : 07-03-2018</td>\n",
       "      <td>Pay/M︰$22.2k</td>\n",
       "      <td>Loan%︰65%</td>\n",
       "      <td>1st Pay︰$2.2M</td>\n",
       "    </tr>\n",
       "    <tr>\n",
       "      <th>10007</th>\n",
       "      <td>New Territories West</td>\n",
       "      <td>Rare Offer, Quiet &amp; Boutique Living</td>\n",
       "      <td>High Floor Zone (Flat 1)                      ...</td>\n",
       "      <td>16.50</td>\n",
       "      <td>NaN</td>\n",
       "      <td>Area :\\n826Ft ($19.9k/Ft)</td>\n",
       "      <td>Heng Fa Chuen Flat 1 Block 49 Heng Fa Chuen  H...</td>\n",
       "      <td>Last Updated : 13-03-2018</td>\n",
       "      <td>Pay/M︰$43.7k</td>\n",
       "      <td>Loan%︰50%</td>\n",
       "      <td>1st Pay︰$8.25M</td>\n",
       "    </tr>\n",
       "    <tr>\n",
       "      <th>10008</th>\n",
       "      <td>New Territories West</td>\n",
       "      <td>NaN</td>\n",
       "      <td>High Floor Zone (Flat F)                      ...</td>\n",
       "      <td>9.80</td>\n",
       "      <td>Rent $19k\\n                                   ...</td>\n",
       "      <td>Area :\\n615Ft ($15.9k/Ft)</td>\n",
       "      <td>Yuen Long Flat F Block M3 Phase 2 Yoho Midtown...</td>\n",
       "      <td>Last Updated : 06-03-2018</td>\n",
       "      <td>Pay/M︰$26.4k</td>\n",
       "      <td>Loan%︰51%</td>\n",
       "      <td>1st Pay︰$4.8M</td>\n",
       "    </tr>\n",
       "  </tbody>\n",
       "</table>\n",
       "<p>10009 rows × 11 columns</p>\n",
       "</div>"
      ],
      "text/plain": [
       "                       Area  \\\n",
       "0                   Kowloon   \n",
       "1                   Kowloon   \n",
       "2                   Kowloon   \n",
       "3                   Kowloon   \n",
       "4                   Kowloon   \n",
       "...                     ...   \n",
       "10004  New Territories West   \n",
       "10005  New Territories West   \n",
       "10006  New Territories West   \n",
       "10007  New Territories West   \n",
       "10008  New Territories West   \n",
       "\n",
       "                                          characteristic  \\\n",
       "0             Quiet & Boutique Living, Unrivalled Luxury   \n",
       "1                    Invite Offers, For Sale & For Lease   \n",
       "2                           Spacious Rooms, High Privacy   \n",
       "3      Good Layout & Efficient, Unrepeatable Opportunity   \n",
       "4                   Spacious Rooms, Tranquil Garden View   \n",
       "...                                                  ...   \n",
       "10004            Famous Property, Greenery Mountain View   \n",
       "10005           Nice Decoration, Good Layout & Efficient   \n",
       "10006                   Prestige Location, Invite Offers   \n",
       "10007                Rare Offer, Quiet & Boutique Living   \n",
       "10008                                                NaN   \n",
       "\n",
       "                                              floor type  hkd millions  \\\n",
       "0                               High Floor Zone (Flat 3)         26.50   \n",
       "1      High Floor Zone (Flat -)                      ...          7.50   \n",
       "2      Low Floor Zone (Flat E)                       ...         18.00   \n",
       "3      Low Floor Zone (Flat -)                       ...         13.98   \n",
       "4      Low Floor Zone (Flat AB)                      ...         25.00   \n",
       "...                                                  ...           ...   \n",
       "10004  Medium Floor Zone (Flat C)                    ...          4.20   \n",
       "10005  Low Floor Zone (Flat B)                       ...          7.60   \n",
       "10006  High Floor Zone (Flat A)                      ...          6.40   \n",
       "10007  High Floor Zone (Flat 1)                      ...         16.50   \n",
       "10008  High Floor Zone (Flat F)                      ...          9.80   \n",
       "\n",
       "                                                rent hkd  \\\n",
       "0                                                    NaN   \n",
       "1      Rent $17k\\n                                   ...   \n",
       "2      Rent $40k\\n                                   ...   \n",
       "3                                                    NaN   \n",
       "4                                                    NaN   \n",
       "...                                                  ...   \n",
       "10004  Rent $11k\\n                                   ...   \n",
       "10005                                                NaN   \n",
       "10006  Rent $15k\\n                                   ...   \n",
       "10007                                                NaN   \n",
       "10008  Rent $19k\\n                                   ...   \n",
       "\n",
       "                              area  \\\n",
       "0      Area :\\n1,137Ft ($23.3k/Ft)   \n",
       "1        Area :\\n485Ft ($15.4k/Ft)   \n",
       "2        Area :\\n794Ft ($22.6k/Ft)   \n",
       "3        Area :\\n971Ft ($14.3k/Ft)   \n",
       "4      Area :\\n1,502Ft ($16.6k/Ft)   \n",
       "...                            ...   \n",
       "10004    Area :\\n329Ft ($12.7k/Ft)   \n",
       "10005    Area :\\n696Ft ($10.9k/Ft)   \n",
       "10006    Area :\\n443Ft ($14.4k/Ft)   \n",
       "10007    Area :\\n826Ft ($19.9k/Ft)   \n",
       "10008    Area :\\n615Ft ($15.9k/Ft)   \n",
       "\n",
       "                                                 address  \\\n",
       "0      Kowloon Tong/Beacon Hill Flat 3 Block A Penins...   \n",
       "1      Cheung Sha Wan West Flat - Tower 1 Phase 2 The...   \n",
       "2      Kowloon Station Flat E Tower 2 Phase 1 The Wat...   \n",
       "3      Cheung Sha Wan West Flat - Tower 2 One West Ko...   \n",
       "4      Whampoa/Laguna Verde Flat AB Tower 10 Phase 2 ...   \n",
       "...                                                  ...   \n",
       "10004  Tsing Yi Flat C Block 5 Mayfair Gardens  Mediu...   \n",
       "10005  Yuen Long Flat B Helorus Boulevard Tower 6B Ri...   \n",
       "10006  Yuen Long Flat A Block M2 Phase 2 Yoho Midtown...   \n",
       "10007  Heng Fa Chuen Flat 1 Block 49 Heng Fa Chuen  H...   \n",
       "10008  Yuen Long Flat F Block M3 Phase 2 Yoho Midtown...   \n",
       "\n",
       "                    last updated pay per month     loan %      1st payment  \n",
       "0      Last Updated : 21-02-2018  Pay/M︰$70.2k  Loan%︰50%  1st Pay︰$13.25M  \n",
       "1      Last Updated : 23-02-2018  Pay/M︰$23.8k  Loan%︰60%      1st Pay︰$3M  \n",
       "2      Last Updated : 13-03-2018  Pay/M︰$47.6k  Loan%︰50%      1st Pay︰$9M  \n",
       "3      Last Updated : 22-02-2018    Pay/M︰$37k  Loan%︰50%   1st Pay︰$6.99M  \n",
       "4      Last Updated : 13-03-2018  Pay/M︰$66.2k  Loan%︰50%   1st Pay︰$12.5M  \n",
       "...                          ...           ...        ...              ...  \n",
       "10004  Last Updated : 28-02-2018  Pay/M︰$15.5k  Loan%︰70%   1st Pay︰$1.26M  \n",
       "10005  Last Updated : 01-03-2018  Pay/M︰$24.1k  Loan%︰60%   1st Pay︰$3.04M  \n",
       "10006  Last Updated : 07-03-2018  Pay/M︰$22.2k  Loan%︰65%    1st Pay︰$2.2M  \n",
       "10007  Last Updated : 13-03-2018  Pay/M︰$43.7k  Loan%︰50%   1st Pay︰$8.25M  \n",
       "10008  Last Updated : 06-03-2018  Pay/M︰$26.4k  Loan%︰51%    1st Pay︰$4.8M  \n",
       "\n",
       "[10009 rows x 11 columns]"
      ]
     },
     "execution_count": 249,
     "metadata": {},
     "output_type": "execute_result"
    }
   ],
   "source": [
    "df"
   ]
  },
  {
   "cell_type": "markdown",
   "metadata": {
    "colab_type": "text",
    "id": "lxRv5MmvNBXA"
   },
   "source": [
    "**3.)** *Bonus* - In columns that should be numerical, use regular expressions to get the numbers and convert the columns from strings to numerical."
   ]
  },
  {
   "cell_type": "code",
   "execution_count": 252,
   "metadata": {
    "colab": {},
    "colab_type": "code",
    "id": "kw7IYIzUNBXA"
   },
   "outputs": [],
   "source": [
    "import re "
   ]
  },
  {
   "cell_type": "code",
   "execution_count": 260,
   "metadata": {
    "colab": {},
    "colab_type": "code",
    "id": "4tzdLQmsNBXC"
   },
   "outputs": [],
   "source": [
    "# 'rent hkd'\n",
    "# converting null values to 0 in vector format:\n",
    "df[\"rent hkd\"] = df[\"rent hkd\"].apply(lambda x: \"$0/\" if isinstance(x, float) \n",
    "                                                                else (\"$0\" if len(x.split(\"\\n\")) == 1 \n",
    "                                                                             else x.split(\"\\n\")[0]))\n",
    "\n",
    "#if it's an instance of float, return 0\n",
    "#otherwise see if it's legnth with 1 or not\n",
    "#if it's length with 1, then it's the \"premium\" statement. turn it to 0\n",
    "#if it splits with 1 value, then we are adding it to \"rent\" \n",
    "\n",
    "\n",
    "\n",
    "#output: whenever there is NaN, we will replace it with $0. "
   ]
  },
  {
   "cell_type": "code",
   "execution_count": 261,
   "metadata": {
    "colab": {},
    "colab_type": "code",
    "id": "4tzdLQmsNBXC"
   },
   "outputs": [],
   "source": [
    "# 'pay per month'\n",
    "# strip Pay/M: ,$, k \n",
    "\n",
    "def extract_first_number(col_val):\n",
    "    all_numbers = re.findall(r'\\d+[k]?', col_val) \n",
    "    return convert_str_to_num(all_numbers[0])"
   ]
  },
  {
   "cell_type": "code",
   "execution_count": 262,
   "metadata": {
    "colab": {},
    "colab_type": "code",
    "id": "4tzdLQmsNBXC"
   },
   "outputs": [],
   "source": [
    "def convert_str_to_num(str_num):\n",
    "    try:\n",
    "        return float(str_num)\n",
    "    except:\n",
    "        return float(str_num[:-1]) * 1000"
   ]
  },
  {
   "cell_type": "code",
   "execution_count": 263,
   "metadata": {
    "colab": {},
    "colab_type": "code",
    "id": "4tzdLQmsNBXC"
   },
   "outputs": [
    {
     "data": {
      "text/plain": [
       "11000.0"
      ]
     },
     "execution_count": 263,
     "metadata": {},
     "output_type": "execute_result"
    }
   ],
   "source": [
    "extract_first_number(\"Rent $11k\\n\")"
   ]
  },
  {
   "cell_type": "code",
   "execution_count": null,
   "metadata": {
    "colab": {},
    "colab_type": "code",
    "id": "4tzdLQmsNBXC"
   },
   "outputs": [],
   "source": [
    "df[\"rent hkd\"] = df[\"rent hkd\"].apply(extract_first_number)"
   ]
  },
  {
   "cell_type": "code",
   "execution_count": 295,
   "metadata": {
    "colab": {},
    "colab_type": "code",
    "id": "4tzdLQmsNBXC"
   },
   "outputs": [],
   "source": [
    "# '1st payment'\n",
    "# strip 1st Pay︰, $,M\n",
    "import re\n",
    "\n",
    "def remove_prefix_and_dollar(col_val):\n",
    "    cleaned_string = re.sub(r'\\|*1st Pay︰\\|*|\\$|M', '', col_val)\n",
    "    return cleaned_string"
   ]
  },
  {
   "cell_type": "code",
   "execution_count": 297,
   "metadata": {
    "colab": {},
    "colab_type": "code",
    "id": "4tzdLQmsNBXC"
   },
   "outputs": [
    {
     "data": {
      "text/plain": [
       "'3'"
      ]
     },
     "execution_count": 297,
     "metadata": {},
     "output_type": "execute_result"
    }
   ],
   "source": [
    "remove_prefix_and_dollar(\"1st Pay︰$3M\")"
   ]
  },
  {
   "cell_type": "code",
   "execution_count": 300,
   "metadata": {
    "colab": {},
    "colab_type": "code",
    "id": "4tzdLQmsNBXC"
   },
   "outputs": [],
   "source": [
    "df[\"1st payment_millions\"] = df[\"1st payment\"].apply(remove_prefix_and_dollar)"
   ]
  },
  {
   "cell_type": "code",
   "execution_count": 328,
   "metadata": {
    "colab": {},
    "colab_type": "code",
    "id": "4tzdLQmsNBXC"
   },
   "outputs": [],
   "source": [
    "#pay per month \n",
    "import re \n",
    "def remove_pay_M(col_val):\n",
    "    all_numbers = re.sub(r'\\|*Pay\\/M︰\\|*|\\$|k', '', col_val)\n",
    "    return all_numbers"
   ]
  },
  {
   "cell_type": "code",
   "execution_count": null,
   "metadata": {
    "colab": {},
    "colab_type": "code",
    "id": "4tzdLQmsNBXC"
   },
   "outputs": [],
   "source": [
    "remove_pay_M(\"Pay/M︰$70.2k\")"
   ]
  },
  {
   "cell_type": "code",
   "execution_count": null,
   "metadata": {
    "colab": {},
    "colab_type": "code",
    "id": "4tzdLQmsNBXC"
   },
   "outputs": [],
   "source": [
    "df[\"pay per month in thousands\"] = df[\"pay per month\"].apply(remove_pay_M)"
   ]
  },
  {
   "cell_type": "code",
   "execution_count": null,
   "metadata": {
    "colab": {},
    "colab_type": "code",
    "id": "4tzdLQmsNBXC"
   },
   "outputs": [],
   "source": [
    "df = df.drop([\"pay per month\"], axis=1)"
   ]
  },
  {
   "cell_type": "code",
   "execution_count": 268,
   "metadata": {
    "colab": {},
    "colab_type": "code",
    "collapsed": true,
    "id": "emTPdt8TNBXF",
    "jupyter": {
     "outputs_hidden": true
    },
    "outputId": "295fa31f-8ab8-4c94-85c9-1eaf1521737a"
   },
   "outputs": [
    {
     "ename": "NameError",
     "evalue": "name 'ricacorp' is not defined",
     "output_type": "error",
     "traceback": [
      "\u001b[0;31m---------------------------------------------------------------------------\u001b[0m",
      "\u001b[0;31mNameError\u001b[0m                                 Traceback (most recent call last)",
      "Cell \u001b[0;32mIn[268], line 1\u001b[0m\n\u001b[0;32m----> 1\u001b[0m \u001b[43mricacorp\u001b[49m\u001b[38;5;241m.\u001b[39mhead()\n",
      "\u001b[0;31mNameError\u001b[0m: name 'ricacorp' is not defined"
     ]
    }
   ],
   "source": [
    "ricacorp.head()"
   ]
  },
  {
   "cell_type": "code",
   "execution_count": null,
   "metadata": {
    "colab": {},
    "colab_type": "code",
    "id": "OQiYXq6ENBXH"
   },
   "outputs": [],
   "source": [
    "ricacorp.to_csv(\"data/ricacorp-clean.csv\")"
   ]
  }
 ],
 "metadata": {
  "colab": {
   "name": "01-data-cleaning.ipynb",
   "provenance": []
  },
  "kernelspec": {
   "display_name": "Python 3 (ipykernel)",
   "language": "python",
   "name": "python3"
  },
  "language_info": {
   "codemirror_mode": {
    "name": "ipython",
    "version": 3
   },
   "file_extension": ".py",
   "mimetype": "text/x-python",
   "name": "python",
   "nbconvert_exporter": "python",
   "pygments_lexer": "ipython3",
   "version": "3.10.11"
  }
 },
 "nbformat": 4,
 "nbformat_minor": 4
}
